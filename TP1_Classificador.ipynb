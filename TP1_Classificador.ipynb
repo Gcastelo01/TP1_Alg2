{
 "cells": [
  {
   "cell_type": "markdown",
   "metadata": {},
   "source": [
    "# Trabalho Prático 1\n",
    "## Grupo:\n",
    "* Gabriel Alves Reis, \n",
    "* Gabriel Castelo Branco Rocha Alencar Pinto, 2020006523\n",
    "* Samuel Brísio, \n"
   ]
  },
  {
   "cell_type": "code",
   "execution_count": 4,
   "metadata": {},
   "outputs": [],
   "source": [
    "# %pip install pandas\n",
    "# %pip install matplotlib"
   ]
  },
  {
   "cell_type": "markdown",
   "metadata": {},
   "source": []
  },
  {
   "cell_type": "markdown",
   "metadata": {},
   "source": [
    "1- Envoltória Convexa (Gift Wrapping ??)\n",
    "- Implementar primitiva de posição relativa de semiretas\n",
    "- Sorted (default do python) com nossa primitiva\n",
    "- Algoritmo da Envoltória (Gift Wrapping)\n",
    "    - (conj. de pontos) -> (conj. de pontos)\n",
    "- função para visualizar a envoltória"
   ]
  },
  {
   "cell_type": "code",
   "execution_count": 5,
   "metadata": {},
   "outputs": [],
   "source": [
    "# imports"
   ]
  },
  {
   "cell_type": "code",
   "execution_count": 138,
   "metadata": {},
   "outputs": [],
   "source": [
    "class Dot:\n",
    "    def __init__(self, x, y):\n",
    "        self.x = x\n",
    "        self.y = y\n",
    "\n",
    "    def __lt__(self, b):\n",
    "        A = (self.x)*(b.y)\n",
    "        B = (self.y)*(b.x)\n",
    "        return (A - B) > 0\n",
    "    \n",
    "    def __sub__(self, b):\n",
    "        return Dot(self.x - b.x, self.y - b.y)\n",
    "    \n",
    "    def __add__(self, b):\n",
    "        return Dot(self.x + b.x, self.y + b.y)\n",
    "\n",
    "    def __repr__(self):\n",
    "        return f'({self.x}, {self.y})'\n",
    "    \n",
    "    def __eq__(self, other):\n",
    "        if(self.x == other.x and self.y == other.x):\n",
    "            return True\n",
    "        return False"
   ]
  },
  {
   "cell_type": "code",
   "execution_count": 139,
   "metadata": {},
   "outputs": [],
   "source": [
    "class Endpoint:\n",
    "    def __init__(self, dot:Dot, segmentIndx,  endpointType):\n",
    "        # endpoit type = 'left' | 'right'\n",
    "        self.dot = dot\n",
    "        self.segmentIndx = segmentIndx\n",
    "        self.endpointType = endpointType\n",
    "    \n",
    "    def __repr__(self):\n",
    "        return f'({self.dot}, {self.segmentIndx}, {self.endpointType})'\n",
    "\n",
    "    def __lt__(self, b):\n",
    "        if self.dot.x == b.dot.x:\n",
    "            if self.endpointType == b.endpointType:\n",
    "                return self.dot.y < b.dot.y\n",
    "            else:\n",
    "                return True if self.endpointType == 'left' else False\n",
    "        else: \n",
    "            return self.dot.x < b.dot.x\n",
    "\n",
    "    def __eq__(self, other):\n",
    "        if(self.dot == other.dot and self.segmentIndx == other.segmentIndx and self.endpointType == other.endpointType):\n",
    "            return True\n",
    "        return False"
   ]
  },
  {
   "cell_type": "code",
   "execution_count": 163,
   "metadata": {},
   "outputs": [],
   "source": [
    "# Define a classe Seguimento\n",
    "# O segmento terá um ponto a esquerda, a direita e um rotulo informando a qual poligono pertence\n",
    "\n",
    "class Segment:\n",
    "    def __init__(self, left:Dot, right:Dot, label):\n",
    "        self.left = left\n",
    "        self.right = right\n",
    "        self.label = label\n",
    "\n",
    "    def __repr__(self):\n",
    "        return f'( {self.left} -> {self.right}, {self.label} )'\n",
    "\n",
    "    def __eq__(self, other):\n",
    "        if(self.left == other.left and self.right == other.right and self.label == other.label):\n",
    "            return True\n",
    "        return False"
   ]
  },
  {
   "cell_type": "code",
   "execution_count": 9,
   "metadata": {},
   "outputs": [],
   "source": [
    "def sortDotsByPolarAngle(dotsParam):\n",
    "    dots = dotsParam.copy()\n",
    "    anchor = dots[0]\n",
    "    indx = 0\n",
    "    anchor_indx = indx\n",
    "    # find anchor\n",
    "    for p in dots:\n",
    "        if p.y < anchor.y :\n",
    "            anchor = p\n",
    "            anchor_indx = indx\n",
    "        elif (p.y == anchor.y and p.x < anchor.x) :\n",
    "            anchor = p  \n",
    "            anchor_indx = indx\n",
    "        indx += 1\n",
    "\n",
    "    # normalize dots\n",
    "    norm_dots = []\n",
    "    dots.pop(anchor_indx)\n",
    "    for dot in dots:\n",
    "        norm_dots.append(dot - anchor)\n",
    "    \n",
    "    norm_dots.sort()\n",
    "\n",
    "    sorted_dots = [anchor]\n",
    "    for dot in norm_dots:\n",
    "        sorted_dots.append(dot + anchor)\n",
    "\n",
    "    return sorted_dots"
   ]
  },
  {
   "cell_type": "code",
   "execution_count": 10,
   "metadata": {},
   "outputs": [],
   "source": [
    "import random\n",
    "def noise(x):\n",
    "    return x + random.random()"
   ]
  },
  {
   "cell_type": "code",
   "execution_count": 11,
   "metadata": {},
   "outputs": [
    {
     "data": {
      "image/png": "[encoded data removed]",
      "text/plain": [
       "<Figure size 640x480 with 1 Axes>"
      ]
     },
     "metadata": {},
     "output_type": "display_data"
    }
   ],
   "source": [
    "import matplotlib.pyplot as plt\n",
    "from random import randint \n",
    "import random\n",
    "\n",
    "dot_list = []\n",
    "\n",
    "random.seed(16)\n",
    "for i in range(30):\n",
    "    x = randint(0,200)\n",
    "    y = noise(randint(0,200))\n",
    "    a = Dot(x, y)\n",
    "    dot_list.append(a)\n",
    "\n",
    "x = []\n",
    "y = []\n",
    "\n",
    "for e in sortDotsByPolarAngle(dot_list):\n",
    "    x.append(e.x)\n",
    "    y.append(e.y)\n",
    "\n",
    "fig, ax = plt.subplots()\n",
    "ax.plot(x, y, 'r*')\n",
    "\n",
    "for i, txt in enumerate(range(len(x))):\n",
    "    ax.annotate(txt, (x[i], y[i]))\n",
    "plt.ylabel('some numbers')\n",
    "plt.show()\n"
   ]
  },
  {
   "cell_type": "markdown",
   "metadata": {},
   "source": [
    "# Envoltória"
   ]
  },
  {
   "cell_type": "code",
   "execution_count": 12,
   "metadata": {},
   "outputs": [],
   "source": [
    "def isLeftTurn(a, b, c):\n",
    "    B = b - a\n",
    "    C = c - a\n",
    "\n",
    "    term1 = (B.x)*(C.y)\n",
    "    term2 = (B.y)*(C.x)\n",
    "    return (term1 - term2) > 0"
   ]
  },
  {
   "cell_type": "code",
   "execution_count": 13,
   "metadata": {},
   "outputs": [],
   "source": [
    "def Graham(DotListParam):\n",
    "    DotList = DotListParam\n",
    "    stack = []\n",
    "    stack.append(DotList[0])\n",
    "    stack.append(DotList[1])\n",
    "    stack.append(DotList[2])\n",
    "\n",
    "    for i in range(3, len(DotList), 1):\n",
    "        laster = len(stack) - 1\n",
    "        while not isLeftTurn(stack[laster - 1], stack[laster], DotList[i]):\n",
    "            stack.pop()\n",
    "            laster -= 1\n",
    "        stack.append(DotList[i])\n",
    "\n",
    "    return stack"
   ]
  },
  {
   "cell_type": "code",
   "execution_count": 14,
   "metadata": {},
   "outputs": [
    {
     "data": {
      "image/png": "[encoded data removed]",
      "text/plain": [
       "<Figure size 640x480 with 1 Axes>"
      ]
     },
     "metadata": {},
     "output_type": "display_data"
    }
   ],
   "source": [
    "fig, ax = plt.subplots()\n",
    "ax.plot(x, y, 'r*')\n",
    "\n",
    "for i, txt in enumerate(range(len(x))):\n",
    "    ax.annotate(txt, (x[i], y[i]))\n",
    "plt.ylabel('some numbers')\n",
    "\n",
    "x_envolt = []\n",
    "y_envolt = []\n",
    "\n",
    "sorted_list = sortDotsByPolarAngle(dot_list)\n",
    "\n",
    "convexEnvelope = Graham(sorted_list)\n",
    "for e in convexEnvelope:\n",
    "    x_envolt.append(e.x)\n",
    "    y_envolt.append(e.y)\n",
    "\n",
    "\n",
    "ax.plot(x_envolt, y_envolt, 'b-')\n",
    "ax.plot([x_envolt[len(x_envolt) - 1], x_envolt[0]], [y_envolt[len(y_envolt) - 1], y_envolt[0]], 'g-')\n",
    "plt.show()"
   ]
  },
  {
   "cell_type": "markdown",
   "metadata": {},
   "source": [
    "# Varredura"
   ]
  },
  {
   "cell_type": "markdown",
   "metadata": {},
   "source": []
  },
  {
   "cell_type": "code",
   "execution_count": 15,
   "metadata": {},
   "outputs": [],
   "source": [
    "# Verifica se o ponto p3 está na semireta p1p2. \n",
    "# p1, p2 e p3 são colineares\n",
    "def on_segment(p1:Dot, p2:Dot, p3:Dot):\n",
    "    p1HasLessX = p1.x < p2.x \n",
    "    if p1HasLessX and p1.x <= p3.x and p2.x >= p3.x:\n",
    "        return True\n",
    "    if p2.x <= p3.x and p1.x >= p3.x:\n",
    "        return True\n",
    "    return False"
   ]
  },
  {
   "cell_type": "code",
   "execution_count": 16,
   "metadata": {},
   "outputs": [],
   "source": [
    "def direction(a, b, c):\n",
    "    # return 1 if turn left\n",
    "    # return -1 if turn right\n",
    "    # return 0 if is co-linear\n",
    "    \n",
    "    B = b - a\n",
    "    C = c - a\n",
    "\n",
    "    term1 = (B.x)*(C.y)\n",
    "    term2 = (B.y)*(C.x)\n",
    "    return (term1 - term2) "
   ]
  },
  {
   "cell_type": "code",
   "execution_count": 47,
   "metadata": {},
   "outputs": [],
   "source": [
    "def aux_segments_intersect(p1, p2, p3, p4):\n",
    "    d1 = direction(p3, p4, p1)\n",
    "    d2 = direction(p3, p4, p2)\n",
    "    d3 = direction(p1, p2, p3)\n",
    "    d4 = direction(p1, p2, p4)\n",
    "\n",
    "    if ((d1 > 0 and d2 < 0) or (d1 < 0 and d2 > 0)) and ((d3 > 0 and d4 < 0) or  (d3 < 0 and d4 > 0)):\n",
    "        return True\n",
    "    if d1 == 0 and on_segment(p3, p4, p1):\n",
    "        return True\n",
    "    if d2 == 0 and on_segment(p3, p4, p2):\n",
    "        return True\n",
    "    if d3 == 0 and on_segment(p1, p2, p3):\n",
    "        return True\n",
    "    if d4 == 0 and on_segment(p1, p2, p4):\n",
    "        return True\n",
    "        \n",
    "    return False"
   ]
  },
  {
   "cell_type": "code",
   "execution_count": 154,
   "metadata": {},
   "outputs": [],
   "source": [
    "def segments_intersect(s1:Segment, s2:Segment):\n",
    "    return aux_segments_intersect(s1.left, s1.right, s2.left, s2.right)"
   ]
  },
  {
   "cell_type": "code",
   "execution_count": 43,
   "metadata": {},
   "outputs": [],
   "source": [
    "def isAbove(avl, key):\n",
    "    if avl.__contains__(key):\n",
    "        try:\n",
    "            segment = avl.succ_item(key)[1] \n",
    "            return (True, segment)\n",
    "        except:\n",
    "            return False, 'error'\n",
    "    else:\n",
    "        try:\n",
    "            segment = avl.ceiling_item(key)[1]\n",
    "            return (True, segment)\n",
    "        except:\n",
    "            return False, 'error'"
   ]
  },
  {
   "cell_type": "code",
   "execution_count": 44,
   "metadata": {},
   "outputs": [],
   "source": [
    "def isBelow(avl, key):\n",
    "    if avl.__contains__(key):\n",
    "        try:\n",
    "            segment = avl.prev_item(key)[1] \n",
    "            return (True, segment)\n",
    "        except:\n",
    "            return False, 'error'\n",
    "    else:\n",
    "        try:\n",
    "            segment = avl.floor_item(key)[1]\n",
    "            return (True, segment)\n",
    "        except:\n",
    "            return False, 'error'\n",
    "    "
   ]
  },
  {
   "cell_type": "code",
   "execution_count": 161,
   "metadata": {},
   "outputs": [],
   "source": [
    "import bintrees\n",
    "\n",
    "def sweepLineIntersection(endpoitsList, segmentsList):\n",
    "    avl = [bintrees.AVLTree(), bintrees.AVLTree()]\n",
    "\n",
    "    for p in endpoitsList:\n",
    "\n",
    "        s = segmentsList[p.segmentIndx]\n",
    "\n",
    "        print(20 * '-')\n",
    "        print(avl[0])\n",
    "        print(avl[1])\n",
    "        print(s, '\\t', p.segmentIndx)\n",
    "\n",
    "        # Insere o segmento na arvore\n",
    "        if p.endpointType == 'left':\n",
    "\n",
    "            # Insere o segmento na arvore\n",
    "            if avl[s.label].__contains__(s.left.y):\n",
    "                itemList = avl[s.label].get(s.left.y)\n",
    "                itemList.append(s)\n",
    "                avl[s.label].insert(s.left.y, itemList)\n",
    "            else:\n",
    "                avl[s.label].insert(s.left.y, [s])\n",
    "\n",
    "            aboveExist, otherSegments = isAbove(avl[s.label - 1], s.left.y)\n",
    "            if (aboveExist):\n",
    "                for other in otherSegments:\n",
    "                    hasIntersection = segments_intersect(s, other)\n",
    "                    print(\"above has Intersect: \", hasIntersection)\n",
    "                    if (hasIntersection):\n",
    "                        return True\n",
    "            \n",
    "            belowExist, otherSegments = isBelow(avl[s.label - 1], s.left.y)\n",
    "            if (belowExist):\n",
    "                for other in otherSegments:\n",
    "                    hasIntersection = segments_intersect(s, other)\n",
    "                    print(\"below has Intersect: \", hasIntersection)\n",
    "                    if (hasIntersection):\n",
    "                        return True\n",
    "            \n",
    "            print(\"isAbove: \", aboveExist, \"\\t isBelow: \", belowExist)\n",
    "            print()\n",
    "\n",
    "        \n",
    "        else:\n",
    "            aboveExist, aboveSegments = isAbove(avl[s.label - 1], s.right.y)\n",
    "            belowExist, belowSegments = isBelow(avl[s.label - 1], s.right.y)\n",
    "\n",
    "            if (aboveExist and belowExist):\n",
    "                for aboveSegment in aboveSegments:\n",
    "                    for belowSegment in belowSegments:\n",
    "                        hasIntersection = segments_intersect(aboveSegment, belowSegment)    \n",
    "                        if(hasIntersection):\n",
    "                            return True\n",
    "\n",
    "            \n",
    "            # remoção do segmento\n",
    "            itemList = avl[s.label].get(s.left.y)\n",
    "            if len(itemList) > 1:\n",
    "                 for i in range(len(itemList) - 1):\n",
    "                    if(itemList[i] != s):\n",
    "                        continue\n",
    "                    itemList.pop(i)\n",
    "\n",
    "            else:\n",
    "                avl[s.label].pop(s.left.y, False)\n",
    "\n",
    "    return False\n",
    "\n"
   ]
  },
  {
   "cell_type": "markdown",
   "metadata": {},
   "source": [
    "# Teste"
   ]
  },
  {
   "cell_type": "markdown",
   "metadata": {},
   "source": [
    "Envoltoria 1"
   ]
  },
  {
   "cell_type": "code",
   "execution_count": 165,
   "metadata": {},
   "outputs": [
    {
     "data": {
      "image/png": "[encoded data removed]",
      "text/plain": [
       "<Figure size 640x480 with 1 Axes>"
      ]
     },
     "metadata": {},
     "output_type": "display_data"
    }
   ],
   "source": [
    "def EnvoltoriaAleatoria(seed=12, numDots=20, x_inicial=0, x_final=100, y_inicial=0, y_final=100):\n",
    "    dot_list = []\n",
    "\n",
    "    random.seed(seed)\n",
    "    for i in range(numDots):\n",
    "        x = randint(x_inicial, x_final)\n",
    "        y = noise(randint(y_inicial,y_final))\n",
    "        a = Dot(x, y)\n",
    "        dot_list.append(a)\n",
    "\n",
    "    sorted_list = sortDotsByPolarAngle(dot_list)\n",
    "\n",
    "    return  (dot_list, Graham(sorted_list))\n",
    "\n",
    "def plotEnvoltoria(ax, pontos, envoltoria, dotType='r*', envType='b-'):\n",
    "    \n",
    "    for i in range(len(pontos)):\n",
    "        ax.plot(pontos[i].x, pontos[i].y, dotType)\n",
    "    \n",
    "    lista_Envoltoria = [[], []]\n",
    "\n",
    "    for e in envoltoria:\n",
    "        lista_Envoltoria[0].append(e.x)\n",
    "        lista_Envoltoria[1].append(e.y)\n",
    "    \n",
    "    ax.plot(lista_Envoltoria[0], lista_Envoltoria[1], envType)\n",
    "    ax.plot([lista_Envoltoria[0][len(lista_Envoltoria[0]) - 1], lista_Envoltoria[0][0]], [lista_Envoltoria[1][len(lista_Envoltoria[1]) - 1], lista_Envoltoria[1][0]], envType)\n",
    " \n",
    "\n",
    "nPoints = 3\n",
    "(pontosA, EnvoltoriaA) = EnvoltoriaAleatoria(numDots=nPoints)\n",
    "(pontosB, EnvoltoriaB) = EnvoltoriaAleatoria(3, nPoints, 50, 200, 50, 200)\n",
    "\n",
    "fig, ax = plt.subplots()\n",
    "\n",
    "plotEnvoltoria(ax, pontosA, EnvoltoriaA)\n",
    "plotEnvoltoria(ax, pontosB, EnvoltoriaB, dotType='go', envType='y-')\n",
    "\n",
    "plt.show()\n"
   ]
  },
  {
   "cell_type": "code",
   "execution_count": 166,
   "metadata": {},
   "outputs": [],
   "source": [
    "def preProcessConvexHull(EnvoltoriaA, EnvoltoriaB):\n",
    "    \n",
    "    endpoitsList:Endpoint = []\n",
    "    segmentsList:Segment = []\n",
    "\n",
    "    for i in range(len(EnvoltoriaA) - 1):\n",
    "        dotA = EnvoltoriaA[i]\n",
    "        dotB = EnvoltoriaA[i + 1]\n",
    "\n",
    "        left = dotA if dotA.x < dotB.x else dotB\n",
    "        right = dotA if dotA.x >= dotB.x else dotB\n",
    "\n",
    "        endpoitsList.append(Endpoint(left, segmentIndx=i, endpointType='left'))\n",
    "        endpoitsList.append(Endpoint(right, segmentIndx=i, endpointType='right'))\n",
    "\n",
    "        segmentsList.append(Segment(left, right, 0))\n",
    "\n",
    "    pn = EnvoltoriaA[-1]\n",
    "    p0 = EnvoltoriaA[0]\n",
    "\n",
    "    \n",
    "    left = pn if pn.x < p0.x else p0\n",
    "    right = pn if pn.x >= p0.x else p0\n",
    "\n",
    "    segmentMax = len(segmentsList)\n",
    "\n",
    "    endpoitsList.append(Endpoint(left, segmentIndx=segmentMax, endpointType='left'))\n",
    "    endpoitsList.append(Endpoint(right, segmentIndx=segmentMax, endpointType='right'))\n",
    "    segmentsList.append(Segment(left, right, 0))\n",
    "\n",
    "\n",
    "    for j in range(len(EnvoltoriaA), len(EnvoltoriaA) + len(EnvoltoriaB) - 1):\n",
    "        i = j - len(EnvoltoriaA)\n",
    "        dotA = EnvoltoriaB[i]\n",
    "        dotB = EnvoltoriaB[i + 1]\n",
    "\n",
    "        left = dotA if dotA.x < dotB.x else dotB\n",
    "        right = dotA if dotA.x >= dotB.x else dotB\n",
    "\n",
    "        endpoitsList.append(Endpoint(left, segmentIndx=j, endpointType='left'))\n",
    "        endpoitsList.append(Endpoint(right, segmentIndx=j, endpointType='right'))\n",
    "\n",
    "        segmentsList.append(Segment(left, right, 1))\n",
    "    \n",
    "\n",
    "    pn = EnvoltoriaB[-1]\n",
    "    p0 = EnvoltoriaB[0]\n",
    "    left = pn if pn.x < p0.x else p0\n",
    "    right = pn if pn.x >= p0.x else p0\n",
    "\n",
    "    segmentMax = len(segmentsList)\n",
    "\n",
    "    endpoitsList.append(Endpoint(left, segmentIndx=segmentMax, endpointType='left'))\n",
    "    endpoitsList.append(Endpoint(right, segmentIndx=segmentMax, endpointType='right'))\n",
    "    segmentsList.append(Segment(left, right, 1))\n",
    "\n",
    "    endpoitsList.sort()\n",
    "    \n",
    "    return (endpoitsList, segmentsList)\n"
   ]
  },
  {
   "cell_type": "code",
   "execution_count": 167,
   "metadata": {},
   "outputs": [
    {
     "name": "stdout",
     "output_type": "stream",
     "text": [
      "--------------------\n",
      "AVLTree({})\n",
      "AVLTree({})\n",
      "( (1, 47.482538813904284) -> (85, 44.14260035292537), 0 ) \t 1\n",
      "isAbove:  False \t isBelow:  False\n",
      "\n",
      "--------------------\n",
      "AVLTree({47.482538813904284: [( (1, 47.482538813904284) -> (85, 44.14260035292537), 0 )]})\n",
      "AVLTree({})\n",
      "( (1, 47.482538813904284) -> (60, 34.65747250265726), 0 ) \t 2\n",
      "isAbove:  False \t isBelow:  False\n",
      "\n",
      "--------------------\n",
      "AVLTree({47.482538813904284: [( (1, 47.482538813904284) -> (85, 44.14260035292537), 0 ), ( (1, 47.482538813904284) -> (60, 34.65747250265726), 0 )]})\n",
      "AVLTree({})\n",
      "( (53, 170.259354014328) -> (171, 198.0655288592398), 1 ) \t 3\n",
      "below has Intersect:  False\n",
      "below has Intersect:  False\n",
      "isAbove:  False \t isBelow:  True\n",
      "\n",
      "--------------------\n",
      "AVLTree({47.482538813904284: [( (1, 47.482538813904284) -> (85, 44.14260035292537), 0 ), ( (1, 47.482538813904284) -> (60, 34.65747250265726), 0 )]})\n",
      "AVLTree({170.259354014328: [( (53, 170.259354014328) -> (171, 198.0655288592398), 1 )]})\n",
      "( (53, 170.259354014328) -> (110, 189.13042279608516), 1 ) \t 5\n",
      "below has Intersect:  False\n",
      "below has Intersect:  False\n",
      "isAbove:  False \t isBelow:  True\n",
      "\n",
      "--------------------\n",
      "AVLTree({47.482538813904284: [( (1, 47.482538813904284) -> (85, 44.14260035292537), 0 ), ( (1, 47.482538813904284) -> (60, 34.65747250265726), 0 )]})\n",
      "AVLTree({170.259354014328: [( (53, 170.259354014328) -> (171, 198.0655288592398), 1 ), ( (53, 170.259354014328) -> (110, 189.13042279608516), 1 )]})\n",
      "( (60, 34.65747250265726) -> (85, 44.14260035292537), 0 ) \t 0\n",
      "above has Intersect:  False\n",
      "above has Intersect:  False\n",
      "isAbove:  True \t isBelow:  False\n",
      "\n",
      "--------------------\n",
      "AVLTree({34.65747250265726: [( (60, 34.65747250265726) -> (85, 44.14260035292537), 0 )], 47.482538813904284: [( (1, 47.482538813904284) -> (85, 44.14260035292537), 0 ), ( (1, 47.482538813904284) -> (60, 34.65747250265726), 0 )]})\n",
      "AVLTree({170.259354014328: [( (53, 170.259354014328) -> (171, 198.0655288592398), 1 ), ( (53, 170.259354014328) -> (110, 189.13042279608516), 1 )]})\n",
      "( (1, 47.482538813904284) -> (60, 34.65747250265726), 0 ) \t 2\n",
      "--------------------\n",
      "AVLTree({34.65747250265726: [( (60, 34.65747250265726) -> (85, 44.14260035292537), 0 )], 47.482538813904284: [( (1, 47.482538813904284) -> (85, 44.14260035292537), 0 ), ( (1, 47.482538813904284) -> (60, 34.65747250265726), 0 )]})\n",
      "AVLTree({170.259354014328: [( (53, 170.259354014328) -> (171, 198.0655288592398), 1 ), ( (53, 170.259354014328) -> (110, 189.13042279608516), 1 )]})\n",
      "( (60, 34.65747250265726) -> (85, 44.14260035292537), 0 ) \t 0\n",
      "--------------------\n",
      "AVLTree({47.482538813904284: [( (1, 47.482538813904284) -> (85, 44.14260035292537), 0 ), ( (1, 47.482538813904284) -> (60, 34.65747250265726), 0 )]})\n",
      "AVLTree({170.259354014328: [( (53, 170.259354014328) -> (171, 198.0655288592398), 1 ), ( (53, 170.259354014328) -> (110, 189.13042279608516), 1 )]})\n",
      "( (1, 47.482538813904284) -> (85, 44.14260035292537), 0 ) \t 1\n",
      "--------------------\n",
      "AVLTree({47.482538813904284: [( (1, 47.482538813904284) -> (85, 44.14260035292537), 0 ), ( (1, 47.482538813904284) -> (60, 34.65747250265726), 0 )]})\n",
      "AVLTree({170.259354014328: [( (53, 170.259354014328) -> (171, 198.0655288592398), 1 ), ( (53, 170.259354014328) -> (110, 189.13042279608516), 1 )]})\n",
      "( (110, 189.13042279608516) -> (171, 198.0655288592398), 1 ) \t 4\n",
      "below has Intersect:  False\n",
      "below has Intersect:  False\n",
      "isAbove:  False \t isBelow:  True\n",
      "\n",
      "--------------------\n",
      "AVLTree({47.482538813904284: [( (1, 47.482538813904284) -> (85, 44.14260035292537), 0 ), ( (1, 47.482538813904284) -> (60, 34.65747250265726), 0 )]})\n",
      "AVLTree({170.259354014328: [( (53, 170.259354014328) -> (171, 198.0655288592398), 1 ), ( (53, 170.259354014328) -> (110, 189.13042279608516), 1 )], 189.13042279608516: [( (110, 189.13042279608516) -> (171, 198.0655288592398), 1 )]})\n",
      "( (53, 170.259354014328) -> (110, 189.13042279608516), 1 ) \t 5\n",
      "--------------------\n",
      "AVLTree({47.482538813904284: [( (1, 47.482538813904284) -> (85, 44.14260035292537), 0 ), ( (1, 47.482538813904284) -> (60, 34.65747250265726), 0 )]})\n",
      "AVLTree({170.259354014328: [( (53, 170.259354014328) -> (171, 198.0655288592398), 1 ), ( (53, 170.259354014328) -> (110, 189.13042279608516), 1 )], 189.13042279608516: [( (110, 189.13042279608516) -> (171, 198.0655288592398), 1 )]})\n",
      "( (53, 170.259354014328) -> (171, 198.0655288592398), 1 ) \t 3\n",
      "--------------------\n",
      "AVLTree({47.482538813904284: [( (1, 47.482538813904284) -> (85, 44.14260035292537), 0 ), ( (1, 47.482538813904284) -> (60, 34.65747250265726), 0 )]})\n",
      "AVLTree({170.259354014328: [( (53, 170.259354014328) -> (171, 198.0655288592398), 1 ), ( (53, 170.259354014328) -> (110, 189.13042279608516), 1 )], 189.13042279608516: [( (110, 189.13042279608516) -> (171, 198.0655288592398), 1 )]})\n",
      "( (110, 189.13042279608516) -> (171, 198.0655288592398), 1 ) \t 4\n",
      "False\n"
     ]
    }
   ],
   "source": [
    "endPointList, segmentsList = preProcessConvexHull(EnvoltoriaA= EnvoltoriaA, EnvoltoriaB= EnvoltoriaB)\n",
    "\n",
    "print(sweepLineIntersection(endPointList, segmentsList))"
   ]
  },
  {
   "cell_type": "code",
   "execution_count": 151,
   "metadata": {},
   "outputs": [
    {
     "name": "stdout",
     "output_type": "stream",
     "text": [
      "five\n"
     ]
    }
   ],
   "source": [
    "import bintrees\n",
    "\n",
    "avl = bintrees.AVLTree([(2, 'one'), (5, 'five'), (9, 'nine'), (3, 'three'), (4, 'four')])\n",
    "\n",
    "print(avl.get(5))"
   ]
  },
  {
   "cell_type": "code",
   "execution_count": 146,
   "metadata": {},
   "outputs": [
    {
     "name": "stdout",
     "output_type": "stream",
     "text": [
      "['hello']\n"
     ]
    }
   ],
   "source": [
    "List = ['hello']\n",
    "\n",
    "for e in List:\n",
    "    print(List)"
   ]
  },
  {
   "cell_type": "code",
   "execution_count": null,
   "metadata": {},
   "outputs": [],
   "source": []
  }
 ],
 "metadata": {
  "kernelspec": {
   "display_name": "Python 3.10.4 64-bit",
   "language": "python",
   "name": "python3"
  },
  "language_info": {
   "codemirror_mode": {
    "name": "ipython",
    "version": 3
   },
   "file_extension": ".py",
   "mimetype": "text/x-python",
   "name": "python",
   "nbconvert_exporter": "python",
   "pygments_lexer": "ipython3",
   "version": "3.10.4"
  },
  "orig_nbformat": 4,
  "vscode": {
   "interpreter": {
    "hash": "916dbcbb3f70747c44a77c7bcd40155683ae19c65e1c03b4aa3499c5328201f1"
   }
  }
 },
 "nbformat": 4,
 "nbformat_minor": 2
}

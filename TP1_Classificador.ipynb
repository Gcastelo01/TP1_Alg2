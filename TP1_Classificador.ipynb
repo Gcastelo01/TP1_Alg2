{
 "cells": [
  {
   "cell_type": "markdown",
   "metadata": {},
   "source": [
    "# Trabalho Prático 1\n",
    "## Grupo:\n",
    "* Gabriel Alves Reis, \n",
    "* Gabriel Castelo Branco Rocha Alencar Pinto, 2020006523\n",
    "* Samuel Brísio, \n"
   ]
  },
  {
   "cell_type": "code",
   "execution_count": 92,
   "metadata": {},
   "outputs": [],
   "source": [
    "# %pip install pandas\n",
    "# %pip install matplotlib"
   ]
  },
  {
   "cell_type": "markdown",
   "metadata": {},
   "source": []
  },
  {
   "cell_type": "markdown",
   "metadata": {},
   "source": [
    "1- Envoltória Convexa (Gift Wrapping ??)\n",
    "- Implementar primitiva de posição relativa de semiretas\n",
    "- Sorted (default do python) com nossa primitiva\n",
    "- Algoritmo da Envoltória (Gift Wrapping)\n",
    "    - (conj. de pontos) -> (conj. de pontos)\n",
    "- função para visualizar a envoltória"
   ]
  },
  {
   "cell_type": "code",
   "execution_count": 93,
   "metadata": {},
   "outputs": [],
   "source": [
    "# imports"
   ]
  },
  {
   "cell_type": "code",
   "execution_count": 94,
   "metadata": {},
   "outputs": [],
   "source": [
    "class Dot:\n",
    "    def __init__(self, x, y):\n",
    "        self.x = x\n",
    "        self.y = y\n",
    "\n",
    "    def __lt__(self, b):\n",
    "        A = (self.x)*(b.y)\n",
    "        B = (self.y)*(b.x)\n",
    "        return (A - B) > 0\n",
    "    \n",
    "    def __sub__(self, b):\n",
    "        return Dot(self.x - b.x, self.y - b.y)\n",
    "    \n",
    "    def __add__(self, b):\n",
    "        return Dot(self.x + b.x, self.y + b.y)\n",
    "\n",
    "    def __repr__(self):\n",
    "        return f'({self.x}, {self.y})'"
   ]
  },
  {
   "cell_type": "code",
   "execution_count": 95,
   "metadata": {},
   "outputs": [],
   "source": [
    "class Endpoint:\n",
    "    def __init__(self, dot:Dot, segmentIndx,  endpointType):\n",
    "        # endpoit type = 'left' | 'right'\n",
    "        self.dot = dot\n",
    "        self.segmentIndx = segmentIndx\n",
    "        self.endpointType = endpointType\n",
    "    \n",
    "    def __repr__(self):\n",
    "        return f'({self.dot}, {self.segmentIndx}, {self.endpointType})'\n",
    "\n",
    "    def __lt__(self, b):\n",
    "        if self.dot.x == b.dot.x:\n",
    "            if self.endpointType == b.endpointType:\n",
    "                return self.dot.y < b.dot.y\n",
    "            else:\n",
    "                return True if self.endpointType == 'left' else False\n",
    "        else: \n",
    "            return self.dot.x < b.dot.x"
   ]
  },
  {
   "cell_type": "code",
   "execution_count": 96,
   "metadata": {},
   "outputs": [],
   "source": [
    "# Define a classe Seguimento\n",
    "# O segmento terá um ponto a esquerda, a direita e um rotulo informando a qual poligono pertence\n",
    "\n",
    "class Segment:\n",
    "    def __init__(self, left:Dot, right:Dot, label):\n",
    "        self.left = left\n",
    "        self.right = right\n",
    "        self.label = label\n",
    "\n",
    "    def __repr__(self):\n",
    "        return f'( {self.left} -> {self.right} )'"
   ]
  },
  {
   "cell_type": "code",
   "execution_count": 97,
   "metadata": {},
   "outputs": [],
   "source": [
    "def sortDotsByPolarAngle(dotsParam):\n",
    "    dots = dotsParam.copy()\n",
    "    anchor = dots[0]\n",
    "    indx = 0\n",
    "    anchor_indx = indx\n",
    "    # find anchor\n",
    "    for p in dots:\n",
    "        if p.y < anchor.y :\n",
    "            anchor = p\n",
    "            anchor_indx = indx\n",
    "        elif (p.y == anchor.y and p.x < anchor.x) :\n",
    "            anchor = p  \n",
    "            anchor_indx = indx\n",
    "        indx += 1\n",
    "\n",
    "    # normalize dots\n",
    "    norm_dots = []\n",
    "    dots.pop(anchor_indx)\n",
    "    for dot in dots:\n",
    "        norm_dots.append(dot - anchor)\n",
    "    \n",
    "    norm_dots.sort()\n",
    "\n",
    "    sorted_dots = [anchor]\n",
    "    for dot in norm_dots:\n",
    "        sorted_dots.append(dot + anchor)\n",
    "\n",
    "    return sorted_dots"
   ]
  },
  {
   "cell_type": "code",
   "execution_count": 98,
   "metadata": {},
   "outputs": [],
   "source": [
    "import random\n",
    "def noise(x):\n",
    "    return x + random.random()"
   ]
  },
  {
   "cell_type": "code",
   "execution_count": 99,
   "metadata": {},
   "outputs": [
    {
     "data": {
      "image/png": "[encoded data removed]",
      "text/plain": [
       "<Figure size 640x480 with 1 Axes>"
      ]
     },
     "metadata": {},
     "output_type": "display_data"
    }
   ],
   "source": [
    "import matplotlib.pyplot as plt\n",
    "from random import randint \n",
    "import random\n",
    "\n",
    "dot_list = []\n",
    "\n",
    "random.seed(16)\n",
    "for i in range(30):\n",
    "    x = randint(0,200)\n",
    "    y = noise(randint(0,200))\n",
    "    a = Dot(x, y)\n",
    "    dot_list.append(a)\n",
    "\n",
    "x = []\n",
    "y = []\n",
    "\n",
    "for e in sortDotsByPolarAngle(dot_list):\n",
    "    x.append(e.x)\n",
    "    y.append(e.y)\n",
    "\n",
    "fig, ax = plt.subplots()\n",
    "ax.plot(x, y, 'r*')\n",
    "\n",
    "for i, txt in enumerate(range(len(x))):\n",
    "    ax.annotate(txt, (x[i], y[i]))\n",
    "plt.ylabel('some numbers')\n",
    "plt.show()\n"
   ]
  },
  {
   "cell_type": "markdown",
   "metadata": {},
   "source": [
    "# Envoltória"
   ]
  },
  {
   "cell_type": "code",
   "execution_count": 100,
   "metadata": {},
   "outputs": [],
   "source": [
    "def isLeftTurn(a, b, c):\n",
    "    B = b - a\n",
    "    C = c - a\n",
    "\n",
    "    term1 = (B.x)*(C.y)\n",
    "    term2 = (B.y)*(C.x)\n",
    "    return (term1 - term2) > 0"
   ]
  },
  {
   "cell_type": "code",
   "execution_count": 101,
   "metadata": {},
   "outputs": [],
   "source": [
    "def Graham(DotListParam):\n",
    "    DotList = DotListParam\n",
    "    stack = []\n",
    "    stack.append(DotList[0])\n",
    "    stack.append(DotList[1])\n",
    "    stack.append(DotList[2])\n",
    "\n",
    "    for i in range(3, len(DotList), 1):\n",
    "        laster = len(stack) - 1\n",
    "        while not isLeftTurn(stack[laster - 1], stack[laster], DotList[i]):\n",
    "            stack.pop()\n",
    "            laster -= 1\n",
    "        stack.append(DotList[i])\n",
    "\n",
    "    return stack"
   ]
  },
  {
   "cell_type": "code",
   "execution_count": 102,
   "metadata": {},
   "outputs": [
    {
     "data": {
      "image/png": "[encoded data removed]",
      "text/plain": [
       "<Figure size 640x480 with 1 Axes>"
      ]
     },
     "metadata": {},
     "output_type": "display_data"
    }
   ],
   "source": [
    "fig, ax = plt.subplots()\n",
    "ax.plot(x, y, 'r*')\n",
    "\n",
    "for i, txt in enumerate(range(len(x))):\n",
    "    ax.annotate(txt, (x[i], y[i]))\n",
    "plt.ylabel('some numbers')\n",
    "\n",
    "x_envolt = []\n",
    "y_envolt = []\n",
    "\n",
    "sorted_list = sortDotsByPolarAngle(dot_list)\n",
    "\n",
    "convexEnvelope = Graham(sorted_list)\n",
    "for e in convexEnvelope:\n",
    "    x_envolt.append(e.x)\n",
    "    y_envolt.append(e.y)\n",
    "\n",
    "\n",
    "ax.plot(x_envolt, y_envolt, 'b-')\n",
    "ax.plot([x_envolt[len(x_envolt) - 1], x_envolt[0]], [y_envolt[len(y_envolt) - 1], y_envolt[0]], 'g-')\n",
    "plt.show()"
   ]
  },
  {
   "cell_type": "markdown",
   "metadata": {},
   "source": [
    "# Varredura"
   ]
  },
  {
   "cell_type": "markdown",
   "metadata": {},
   "source": []
  },
  {
   "cell_type": "code",
   "execution_count": 125,
   "metadata": {},
   "outputs": [],
   "source": [
    "# Verifica se o ponto p3 está na semireta p1p2. \n",
    "# p1, p2 e p3 são colineares\n",
    "def on_segment(p1:Dot, p2:Dot, p3:Dot):\n",
    "    p1HasLessX = p1.x < p2.x \n",
    "    if p1HasLessX and p1.x <= p3.x and p2.x >= p3.x:\n",
    "        return True\n",
    "    if p2.x <= p3.x and p1.x >= p3.x:\n",
    "        return True\n",
    "    return False"
   ]
  },
  {
   "cell_type": "code",
   "execution_count": 104,
   "metadata": {},
   "outputs": [],
   "source": [
    "def direction(a, b, c):\n",
    "    # return 1 if turn left\n",
    "    # return -1 if turn right\n",
    "    # return 0 if is co-linear\n",
    "    \n",
    "    B = b - a\n",
    "    C = c - a\n",
    "\n",
    "    term1 = (B.x)*(C.y)\n",
    "    term2 = (B.y)*(C.x)\n",
    "    return (term1 - term2) "
   ]
  },
  {
   "cell_type": "code",
   "execution_count": 105,
   "metadata": {},
   "outputs": [],
   "source": [
    "def aux_segments_intersect(p1, p2, p3, p4):\n",
    "    d1 = direction(p3, p4, p1)\n",
    "    d2 = direction(p3, p4, p2)\n",
    "    d3 = direction(p1, p2, p3)\n",
    "    d4 = direction(p1, p2, p4)\n",
    "\n",
    "    if ((d1 > 0 and d2 < 0) or (d1 < 0 and 0 > d2)) and ((d3 > 0 and d4 < 0) or  (d3 < 0 and d4 > 0)):\n",
    "        return True\n",
    "    if d1 == 0 and on_segment(p3, p4, p1):\n",
    "        return True\n",
    "    if d2 == 0 and on_segment(p3, p4, p2):\n",
    "        return True\n",
    "    if d3 == 0 and on_segment(p1, p2, p3):\n",
    "        return True\n",
    "    if d4 == 0 and on_segment(p1, p2, p4):\n",
    "        return True\n",
    "        \n",
    "    return False"
   ]
  },
  {
   "cell_type": "code",
   "execution_count": 106,
   "metadata": {},
   "outputs": [],
   "source": [
    "def segments_intersect(s1:Segment, s2:Segment):\n",
    "    aux_segments_intersect(s1.left, s1.right, s2.left, s2.right)"
   ]
  },
  {
   "cell_type": "code",
   "execution_count": 107,
   "metadata": {},
   "outputs": [],
   "source": [
    "\n",
    "\n",
    "# Sorting endpoints\n",
    "endpoitsList:Endpoint = []\n",
    "segmentsList:Segment = []\n",
    "for i in range(len(convexEnvelope) - 1):\n",
    "    a = convexEnvelope[i]\n",
    "    b = convexEnvelope[i + 1]\n",
    "\n",
    "    left = a if a.x < b.x else b\n",
    "    right = a if a.x >= b.x else b\n",
    "    s = Endpoint(left, i, 'left')\n",
    "    e = Endpoint(right, i, 'right')\n",
    "\n",
    "    endpoitsList.append(s)\n",
    "    endpoitsList.append(e)\n",
    "\n",
    "    segmentsList.append(Segment(left, right, '1'))\n",
    "\n",
    "lastIndx = len(convexEnvelope) - 1\n",
    "last = convexEnvelope[lastIndx]\n",
    "first = convexEnvelope[0]\n",
    "\n",
    "left = last if last.x < first.x else first\n",
    "right = last if last.x >= first.x else first\n",
    "s =  Endpoint(left, lastIndx, 'left')\n",
    "e =  Endpoint(right, lastIndx, 'right')\n",
    "endpoitsList.append(s)\n",
    "endpoitsList.append(e)\n",
    "\n",
    "segmentsList.append(Segment(left, right, '1'))\n",
    "\n",
    "\n",
    "endpoitsList.sort()\n",
    "# endpoitsList\n",
    "# segmentsList"
   ]
  },
  {
   "cell_type": "code",
   "execution_count": 108,
   "metadata": {},
   "outputs": [],
   "source": [
    "#%pip install bintrees"
   ]
  },
  {
   "cell_type": "code",
   "execution_count": 1,
   "metadata": {},
   "outputs": [],
   "source": [
    "def isAbove(avl, key):\n",
    "    if avl.__contains__(key):\n",
    "        try:\n",
    "            segment = avl.succ_item(key)[0] \n",
    "            return True, segment\n",
    "        except:\n",
    "            return False\n",
    "    else:\n",
    "        try:\n",
    "            segment = avl.ceiling_item(key)[0]\n",
    "            return True, segment\n",
    "        except:\n",
    "            return False"
   ]
  },
  {
   "cell_type": "code",
   "execution_count": 3,
   "metadata": {},
   "outputs": [],
   "source": [
    "def isBelow(avl, key):\n",
    "    if avl.__contains__(key):\n",
    "        try:\n",
    "            segment = avl.prev_item(key) \n",
    "            return True, segment\n",
    "        except:\n",
    "            return False\n",
    "    else:\n",
    "        try:\n",
    "            segment = avl.floor_item(key)\n",
    "            return True, segment\n",
    "        except:\n",
    "            return False\n",
    "    "
   ]
  },
  {
   "cell_type": "code",
   "execution_count": 126,
   "metadata": {},
   "outputs": [],
   "source": [
    "import bintrees\n",
    "\n",
    "def sweepLineIntersection(endpoitsList, segmentsList):\n",
    "    avl = [bintrees.AVLTree(), bintrees.AVLTree()]\n",
    "\n",
    "    for p in endpoitsList:\n",
    "\n",
    "        s = segmentsList[p.segmentIndx]\n",
    "        \n",
    "        # Insere o segmento na arvore\n",
    "        if p.endpointType == 'left':\n",
    "            avl[s.label].insert(s.left.y, s)\n",
    "\n",
    "            aboveExist, otherSegment = isAbove(avl[s.label - 1], s.left.y)\n",
    "            if (aboveExist):\n",
    "                hasIntersection = segments_intersect(s, otherSegment)\n",
    "                if (hasIntersection):\n",
    "                    return True\n",
    "            \n",
    "            belowExist, otherSegment = isBelow(avl[s.label - 1], s.left.y)\n",
    "            if (belowExist):\n",
    "                hasIntersection = segments_intersect(s, otherSegment)\n",
    "                if (hasIntersection):\n",
    "                    return True\n",
    "        \n",
    "        # remoção do segmento\n",
    "        else:\n",
    "            aboveExist, aboveSegment = isAbove(avl, s.right.y, endpointType='right')\n",
    "            belowExist, belowSegment = isAbove(avl, s.right.y, endpointType='right')\n",
    "            hasIntersection = segments_intersect(aboveSegment, belowSegment)\n",
    "\n",
    "            if (aboveExist and belowExist and hasIntersection):\n",
    "                    return True\n",
    "            avl[s.label].pop(s.right.y, False)\n",
    "    return False\n",
    "\n"
   ]
  },
  {
   "cell_type": "code",
   "execution_count": 127,
   "metadata": {},
   "outputs": [
    {
     "data": {
      "text/plain": [
       "False"
      ]
     },
     "execution_count": 127,
     "metadata": {},
     "output_type": "execute_result"
    }
   ],
   "source": [
    "import bintrees\n",
    "\n",
    "avl = bintrees.AVLTree([(2, 'one'), (5, 'five'), (9, 'nine'), (3, 'three'), (4, 'four')])\n",
    "\n",
    "avl.floor_item(2)\n",
    "\n",
    "\n",
    "# isBelow(avl, 1, endpointType='right')\n",
    "# avl.prev_item(4)\n",
    "sweepLineIntersection(endpoitsList, segmentsList)"
   ]
  },
  {
   "cell_type": "markdown",
   "metadata": {},
   "source": [
    "Refazer: isAbove, para identificar se existe segmento acima quando o terminal for a direita. OK!\n",
    "\n",
    "Refazer: isBelow, para identificar se existe segmento abaixo quando o terminal for a direita. OK!\n",
    "\n",
    "onSegment: comparar dois segmentos consecultivos, que dará interceção \n",
    "\n",
    "sweepLineIntersection: interceção válida apenas para envoltórias diferentes! Mudar definição de endpoint!"
   ]
  }
 ],
 "metadata": {
  "kernelspec": {
   "display_name": "Python 3.10.4 64-bit",
   "language": "python",
   "name": "python3"
  },
  "language_info": {
   "codemirror_mode": {
    "name": "ipython",
    "version": 3
   },
   "file_extension": ".py",
   "mimetype": "text/x-python",
   "name": "python",
   "nbconvert_exporter": "python",
   "pygments_lexer": "ipython3",
   "version": "3.10.4"
  },
  "orig_nbformat": 4,
  "vscode": {
   "interpreter": {
    "hash": "916dbcbb3f70747c44a77c7bcd40155683ae19c65e1c03b4aa3499c5328201f1"
   }
  }
 },
 "nbformat": 4,
 "nbformat_minor": 2
}

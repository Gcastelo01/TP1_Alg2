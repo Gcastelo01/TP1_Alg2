{
 "cells": [
  {
   "cell_type": "markdown",
   "metadata": {},
   "source": [
    "# Trabalho Prático 1\n",
    "## Grupo:\n",
    "* Gabriel Alves Reis, \n",
    "* Gabriel Castelo Branco Rocha Alencar Pinto, 2020006523\n",
    "* Samuel Brísio, \n"
   ]
  },
  {
   "cell_type": "code",
   "execution_count": 27,
   "metadata": {},
   "outputs": [
    {
     "name": "stderr",
     "output_type": "stream",
     "text": [
      "UsageError: Line magic function `%pip3` not found.\n"
     ]
    }
   ],
   "source": [
    "%pip3 install pandas"
   ]
  },
  {
   "cell_type": "markdown",
   "metadata": {},
   "source": []
  },
  {
   "cell_type": "markdown",
   "metadata": {},
   "source": [
    "1- Envoltória Convexa (Gift Wrapping ??)\n",
    "- Implementar primitiva de posição relativa de semiretas\n",
    "- Sorted (default do python) com nossa primitiva\n",
    "- Algoritmo da Envoltória (Gift Wrapping)\n",
    "    - (conj. de pontos) -> (conj. de pontos)\n",
    "- função para visualizar a envoltória"
   ]
  },
  {
   "cell_type": "code",
   "execution_count": null,
   "metadata": {},
   "outputs": [],
   "source": [
    "# imports"
   ]
  },
  {
   "cell_type": "code",
   "execution_count": 120,
   "metadata": {},
   "outputs": [],
   "source": [
    "class Dot:\n",
    "    def __init__(self, x, y):\n",
    "        self.x = x\n",
    "        self.y = y\n",
    "\n",
    "    def __lt__(self, b):\n",
    "        A = (self.x)*(b.y)\n",
    "        B = (self.y)*(b.x)\n",
    "        return (A - B) > 0\n",
    "    \n",
    "    def __sub__(self, b):\n",
    "        return Dot(self.x - b.x, self.y - b.y)\n",
    "    \n",
    "    def __add__(self, b):\n",
    "        return Dot(self.x + b.x, self.y + b.y)\n",
    "\n",
    "    def __repr__(self):\n",
    "        return f'({self.x}, {self.y})'"
   ]
  },
  {
   "cell_type": "code",
   "execution_count": 123,
   "metadata": {},
   "outputs": [],
   "source": [
    "def sortDotsByPolarAngle(dots):\n",
    "\n",
    "    anchor = dots[0]\n",
    "    anchor_indx = 0\n",
    "    # find anchor\n",
    "    for p in dots:\n",
    "        if p.y < anchor.y :\n",
    "            anchor = p\n",
    "            anchor_indx += 1\n",
    "        elif (p.y == anchor.y and p.x < anchor.x) :\n",
    "            anchor = p  \n",
    "            anchor_indx += 1\n",
    "\n",
    "\n",
    "    # normalize dots\n",
    "    norm_dots = []\n",
    "    dots.pop(anchor_indx)\n",
    "    for dot in dots:\n",
    "        norm_dots.append(dot - anchor)\n",
    "    \n",
    "    norm_dots.sort()\n",
    "\n",
    "    sorted_dots = [anchor]\n",
    "    for dot in norm_dots:\n",
    "        sorted_dots.append(dot + anchor)\n",
    "\n",
    "    return sorted_dots"
   ]
  },
  {
   "cell_type": "code",
   "execution_count": 30,
   "metadata": {},
   "outputs": [
    {
     "ename": "KeyboardInterrupt",
     "evalue": "",
     "output_type": "error",
     "traceback": [
      "\u001b[1;31m---------------------------------------------------------------------------\u001b[0m",
      "\u001b[1;31mKeyboardInterrupt\u001b[0m                         Traceback (most recent call last)",
      "Cell \u001b[1;32mIn [30], line 26\u001b[0m\n\u001b[0;32m     24\u001b[0m     \u001b[39mfor\u001b[39;00m dot \u001b[39min\u001b[39;00m lista:\n\u001b[0;32m     25\u001b[0m         pygame\u001b[39m.\u001b[39mdraw\u001b[39m.\u001b[39mcircle(win, RED, (dot\u001b[39m.\u001b[39mx, dot\u001b[39m.\u001b[39my), \u001b[39m2\u001b[39m)\n\u001b[1;32m---> 26\u001b[0m         pygame\u001b[39m.\u001b[39mtime\u001b[39m.\u001b[39mdelay(\u001b[39m500\u001b[39m)\n\u001b[0;32m     27\u001b[0m     pygame\u001b[39m.\u001b[39mdisplay\u001b[39m.\u001b[39mupdate()\n\u001b[0;32m     29\u001b[0m pygame\u001b[39m.\u001b[39mquit()\n",
      "\u001b[1;31mKeyboardInterrupt\u001b[0m: "
     ]
    }
   ],
   "source": [
    "# import pygame\n",
    "\n",
    "# SCREEN = WIDTH, HEIGHT = 300, 300\n",
    "# CELLSIZE = 20\n",
    "# PADDING = 20\n",
    "# ROWS = COLS = (WIDTH - 4*PADDING) # CELLSIZE\n",
    "\n",
    "# pygame.init()\n",
    "# win = pygame.display.set_mode(SCREEN)\n",
    "\n",
    "# # Colors\n",
    "# WHITE = (255, 255, 255)\n",
    "# RED = (255, 0, 0)\n",
    "# YELLOW = (255, 255, 0)\n",
    "# BLACK = (12, 12, 12)\n",
    "\n",
    "# running = True\n",
    "# while running:\n",
    "#     win.fill(BLACK)\n",
    "#     for event in pygame.event.get():\n",
    "#         if event.type == pygame.QUIT:\n",
    "#             running = False\n",
    "        \n",
    "#     for dot in lista:\n",
    "#         pygame.draw.circle(win, RED, (dot.x, dot.y), 2)\n",
    "#         pygame.time.delay(500)\n",
    "#     pygame.display.update()\n",
    "\n",
    "# pygame.quit()"
   ]
  },
  {
   "cell_type": "code",
   "execution_count": 124,
   "metadata": {},
   "outputs": [
    {
     "data": {
      "image/png": "[encoded data removed]",
      "text/plain": [
       "<Figure size 640x480 with 1 Axes>"
      ]
     },
     "metadata": {},
     "output_type": "display_data"
    }
   ],
   "source": [
    "import matplotlib.pyplot as plt\n",
    "from random import randint\n",
    "\n",
    "dot_list = []\n",
    "for i in range(15):\n",
    "    x = randint(0,100)\n",
    "    y = randint(0,100)\n",
    "    a = Dot(x, y)\n",
    "    dot_list.append(a)\n",
    "\n",
    "\n",
    "sortedDots = sortDotsByPolarAngle(dot_list)\n",
    "\n",
    "x = []\n",
    "y = []\n",
    "for e in sortedDots:\n",
    "    x.append(e.x)\n",
    "    y.append(e.y)\n",
    "\n",
    "\n",
    "fig, ax = plt.subplots()\n",
    "ax.plot(x, y, 'r*')\n",
    "\n",
    "for i, txt in enumerate(range(len(x))):\n",
    "    ax.annotate(txt, (x[i], y[i]))\n",
    "plt.ylabel('some numbers')\n",
    "plt.show()"
   ]
  }
 ],
 "metadata": {
  "kernelspec": {
   "display_name": "Python 3.9.13 64-bit (microsoft store)",
   "language": "python",
   "name": "python3"
  },
  "language_info": {
   "codemirror_mode": {
    "name": "ipython",
    "version": 3
   },
   "file_extension": ".py",
   "mimetype": "text/x-python",
   "name": "python",
   "nbconvert_exporter": "python",
   "pygments_lexer": "ipython3",
   "version": "3.9.13"
  },
  "orig_nbformat": 4,
  "vscode": {
   "interpreter": {
    "hash": "399482543ed73042c9032d685c524e5d8b372c05560a6d744a34d0c50895b91e"
   }
  }
 },
 "nbformat": 4,
 "nbformat_minor": 2
}

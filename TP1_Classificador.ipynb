{
 "cells": [
  {
   "cell_type": "markdown",
   "metadata": {},
   "source": [
    "# Trabalho Prático 1\n",
    "## Grupo:\n",
    "* Gabriel Alves Reis, \n",
    "* Gabriel Castelo Branco Rocha Alencar Pinto, 2020006523\n",
    "* Samuel Brísio, \n"
   ]
  },
  {
   "cell_type": "code",
   "execution_count": 111,
   "metadata": {},
   "outputs": [
    {
     "name": "stderr",
     "output_type": "stream",
     "text": [
      "UsageError: Line magic function `%pip3` not found.\n"
     ]
    }
   ],
   "source": [
    "%pip3 install pandas"
   ]
  },
  {
   "cell_type": "markdown",
   "metadata": {},
   "source": []
  },
  {
   "cell_type": "markdown",
   "metadata": {},
   "source": [
    "1- Envoltória Convexa (Gift Wrapping ??)\n",
    "- Implementar primitiva de posição relativa de semiretas\n",
    "- Sorted (default do python) com nossa primitiva\n",
    "- Algoritmo da Envoltória (Gift Wrapping)\n",
    "    - (conj. de pontos) -> (conj. de pontos)\n",
    "- função para visualizar a envoltória"
   ]
  },
  {
   "cell_type": "code",
   "execution_count": 112,
   "metadata": {},
   "outputs": [],
   "source": [
    "from numpy import sort\n",
    "\n",
    "\n",
    "class Dot:\n",
    "    def __init__(self, x, y):\n",
    "        self.x = x\n",
    "        self.y = y\n",
    "\n",
    "    def __repr__(self):\n",
    "        return f'({self.x}, {self.y})'\n",
    "\n",
    "    def __lt__(self, other):\n",
    "        return ( self.x*other.y - (self.y * other.x) ) > 0\n",
    "    \n",
    "\n",
    "    def orientacaoRelativa(dot0, dot1, dot2):\n",
    "        '''Define se: P0P1 está dir/esq de P0P2\n",
    "            -1 esquerda (P1 anti-horáio a P2 )\n",
    "            0 colinear\n",
    "            1 direita (P1 horário a P2)\n",
    "        '''\n",
    "        a = (dot1.x - dot0.x)*(dot2.y - dot0.y)\n",
    "        b = (dot2.x - dot0.x)*(dot1.y - dot0.y)\n",
    "\n",
    "        signal = -1 if (a < b) else 1\n",
    "        signal = signal if a != b else 0\n",
    "\n",
    "        return signal\n",
    "\n",
    "    def sort(self, dots):\n",
    "        anchor = dots[0];\n",
    "        # find anchor\n",
    "        for p in dots:\n",
    "            if p.y < anchor.y :\n",
    "                anchor = p\n",
    "            elif (p.y == anchor.y and p.x < anchor.x) :\n",
    "                anchor = p  \n",
    "        return sorted(dots, key = lambda x, y: self.orientacaoRelativa(anchor, x, y))"
   ]
  },
  {
   "cell_type": "code",
   "execution_count": 113,
   "metadata": {},
   "outputs": [],
   "source": [
    "from filecmp import cmp\n",
    "from random import randint\n",
    "\n",
    "def sortDotsByPolarAngle(dots):\n",
    "    anchor = dots[0]\n",
    "    # find anchor\n",
    "    for p in dots:\n",
    "        if p.y < anchor.y :\n",
    "            anchor = p\n",
    "        elif (p.y == anchor.y and p.x < anchor.x) :\n",
    "            anchor = p  \n",
    "    return dots.sort(cmp = lambda x, y: Dot.orientacaoRelativa(anchor, x, y))\n",
    "\n",
    "lista = []\n",
    "for i in range(15):\n",
    "    x = randint(0,100)\n",
    "    y = randint(0,100)\n",
    "    lista.append(Dot(x, y))"
   ]
  },
  {
   "cell_type": "code",
   "execution_count": 119,
   "metadata": {},
   "outputs": [],
   "source": [
    "import pygame\n",
    "\n",
    "SCREEN = WIDTH, HEIGHT = 300, 300\n",
    "CELLSIZE = 20\n",
    "PADDING = 20\n",
    "ROWS = COLS = (WIDTH - 4*PADDING) # CELLSIZE\n",
    "\n",
    "pygame.init()\n",
    "win = pygame.display.set_mode(SCREEN)\n",
    "\n",
    "# Colors\n",
    "WHITE = (255, 255, 255)\n",
    "RED = (255, 0, 0)\n",
    "YELLOW = (255, 255, 0)\n",
    "BLACK = (12, 12, 12)\n",
    "\n",
    "running = True\n",
    "while running:\n",
    "    win.fill(BLACK)\n",
    "    for event in pygame.event.get():\n",
    "        if event.type == pygame.QUIT:\n",
    "            running = False\n",
    "        \n",
    "    for dot in lista:\n",
    "        pygame.draw.circle(win, RED, (dot.x, dot.y), 2)\n",
    "        pygame.time.delay(500)\n",
    "    pygame.display.update()\n",
    "\n",
    "pygame.quit()"
   ]
  },
  {
   "cell_type": "code",
   "execution_count": 116,
   "metadata": {},
   "outputs": [],
   "source": [
    "x = []\n",
    "y = []\n",
    "for e in lista:\n",
    "    x.append(e.x)\n",
    "    y.append(e.y)"
   ]
  },
  {
   "cell_type": "code",
   "execution_count": 117,
   "metadata": {},
   "outputs": [
    {
     "data": {
      "image/png": "[encoded data removed]",
      "text/plain": [
       "<Figure size 640x480 with 1 Axes>"
      ]
     },
     "metadata": {},
     "output_type": "display_data"
    }
   ],
   "source": [
    "import matplotlib.pyplot as plt\n",
    "fig, ax = plt.subplots()\n",
    "ax.plot(x, y, 'r*')\n",
    "\n",
    "for i, txt in enumerate(range(len(x))):\n",
    "    ax.annotate(txt, (x[i], y[i]))\n",
    "plt.ylabel('some numbers')\n",
    "plt.show()"
   ]
  }
 ],
 "metadata": {
  "kernelspec": {
   "display_name": "Python 3.9.13 64-bit (microsoft store)",
   "language": "python",
   "name": "python3"
  },
  "language_info": {
   "codemirror_mode": {
    "name": "ipython",
    "version": 3
   },
   "file_extension": ".py",
   "mimetype": "text/x-python",
   "name": "python",
   "nbconvert_exporter": "python",
   "pygments_lexer": "ipython3",
   "version": "3.9.13"
  },
  "orig_nbformat": 4,
  "vscode": {
   "interpreter": {
    "hash": "399482543ed73042c9032d685c524e5d8b372c05560a6d744a34d0c50895b91e"
   }
  }
 },
 "nbformat": 4,
 "nbformat_minor": 2
}

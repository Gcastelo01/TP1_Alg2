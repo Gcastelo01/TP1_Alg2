{
 "cells": [
  {
   "cell_type": "markdown",
   "metadata": {},
   "source": [
    "# Trabalho Prático 1\n",
    "## Grupo:\n",
    "* Gabriel Alves Reis, \n",
    "* Gabriel Castelo Branco Rocha Alencar Pinto, 2020006523\n",
    "* Samuel Brísio, \n"
   ]
  },
  {
   "cell_type": "markdown",
   "metadata": {},
   "source": [
    "1- Envoltória Convexa (Gift Wrapping ??)\n",
    "- Implementar primitiva de posição relativa de semiretas\n",
    "- Sorted (default do python) com nossa primitiva\n",
    "- Algoritmo da Envoltória (Gift Wrapping)\n",
    "    - (conj. de pontos) -> (conj. de pontos)\n",
    "- função para visualizar a envoltória"
   ]
  },
  {
   "cell_type": "markdown",
   "metadata": {},
   "source": [
    "## Introdução\n",
    "\n",
    "Neste notebook, foi implementado um algoritmo de Aprendizado de Máquina Supervisionado, ou seja, um algoritmo que, recebendo um determinado conjunto ou uma determinada base de dados, o algoritmo é capaz de aprender as características de diferentes amostras, permitindo-o classificar amostras desconhecidas em dois grupos. Outrossim, as tarefas do algoritmo são as seguintes:\n",
    "\n",
    "* Dado um conjunto, separar uma porcentagem das tarefas para treinamento do modelo\n",
    "* Estando o modelo treinado, a porcentagem restante é utilizada para poder validar o funcionamento do modelo, verificando se a capacidade de separação das amostras é válida.\n",
    "* Concluídas ambas estas etapas e validado o modelo, o mesmo estará pronto para receber amostras aleatórias daqueles dados, de modo a classificá-las com certa acurácia."
   ]
  },
  {
   "cell_type": "code",
   "execution_count": null,
   "metadata": {},
   "outputs": [],
   "source": [
    "# Importando Módulos para Funcionamento\n",
    "import matplotlib.pyplot as plt\n",
    "from random import randint\n",
    "from modules.functions import *\n"
   ]
  },
  {
   "cell_type": "markdown",
   "metadata": {},
   "source": [
    "## Conjuntos de Teste \n",
    "\n",
    "Inicialmente, para teste de veracidade e funcinamento "
   ]
  },
  {
   "cell_type": "code",
   "execution_count": null,
   "metadata": {},
   "outputs": [],
   "source": [
    "dot_list = []\n",
    "\n",
    "seed(16)\n",
    "for i in range(30):\n",
    "    x = randint(0,200)\n",
    "    y = noise(randint(0,200))\n",
    "    a = Dot(x, y)\n",
    "    dot_list.append(a)\n",
    "\n",
    "x = []\n",
    "y = []\n",
    "\n",
    "for e in sortDotsByPolarAngle(dot_list):\n",
    "    x.append(e.x)\n",
    "    y.append(e.y)\n",
    "\n",
    "fig, ax = plt.subplots()\n",
    "ax.plot(x, y, 'r*')\n",
    "\n",
    "for i, txt in enumerate(range(len(x))):\n",
    "    ax.annotate(txt, (x[i], y[i]))\n",
    "plt.ylabel('some numbers')\n",
    "plt.show()\n"
   ]
  },
  {
   "cell_type": "markdown",
   "metadata": {},
   "source": [
    "# Envoltória"
   ]
  },
  {
   "cell_type": "code",
   "execution_count": null,
   "metadata": {},
   "outputs": [],
   "source": [
    "fig, ax = plt.subplots()\n",
    "ax.plot(x, y, 'r*')\n",
    "\n",
    "for i, txt in enumerate(range(len(x))):\n",
    "    ax.annotate(txt, (x[i], y[i]))\n",
    "plt.ylabel('some numbers')\n",
    "\n",
    "x_envolt = []\n",
    "y_envolt = []\n",
    "\n",
    "sorted_list = sortDotsByPolarAngle(dot_list)\n",
    "\n",
    "convexEnvelope = Graham(sorted_list)\n",
    "for e in convexEnvelope:\n",
    "    x_envolt.append(e.x)\n",
    "    y_envolt.append(e.y)\n",
    "\n",
    "\n",
    "ax.plot(x_envolt, y_envolt, 'b-')\n",
    "ax.plot([x_envolt[len(x_envolt) - 1], x_envolt[0]], [y_envolt[len(y_envolt) - 1], y_envolt[0]], 'g-')\n",
    "plt.show()"
   ]
  },
  {
   "cell_type": "markdown",
   "metadata": {},
   "source": [
    "# Teste"
   ]
  },
  {
   "cell_type": "markdown",
   "metadata": {},
   "source": [
    "Envoltoria 1"
   ]
  },
  {
   "cell_type": "code",
   "execution_count": null,
   "metadata": {},
   "outputs": [],
   "source": [
    "\n",
    "\n",
    "# Sorting endpoints\n",
    "endpoitsList:Endpoint = []\n",
    "segmentsList:Segment = []\n",
    "for i in range(len(convexEnvelope) - 1):\n",
    "    a = convexEnvelope[i]\n",
    "    b = convexEnvelope[i + 1]\n",
    "\n",
    "    left = a if a.x < b.x else b\n",
    "    right = a if a.x >= b.x else b\n",
    "    s = Endpoint(left, i, 'left')\n",
    "    e = Endpoint(right, i, 'right')\n",
    "\n",
    "    endpoitsList.append(s)\n",
    "    endpoitsList.append(e)\n",
    "\n",
    "    segmentsList.append(Segment(left, right, '1'))\n",
    "\n",
    "lastIndx = len(convexEnvelope) - 1\n",
    "last = convexEnvelope[lastIndx]\n",
    "first = convexEnvelope[0]\n",
    "\n",
    "left = last if last.x < first.x else first\n",
    "right = last if last.x >= first.x else first\n",
    "s =  Endpoint(left, lastIndx, 'left')\n",
    "e =  Endpoint(right, lastIndx, 'right')\n",
    "endpoitsList.append(s)\n",
    "endpoitsList.append(e)\n",
    "\n",
    "segmentsList.append(Segment(left, right, '1'))\n",
    "\n",
    "\n",
    "endpoitsList.sort()\n",
    "# endpoitsList\n",
    "# segmentsList"
   ]
  },
  {
   "cell_type": "code",
   "execution_count": null,
   "metadata": {},
   "outputs": [],
   "source": [
    "nPoints = 6\n",
    "randomSeedA = randint(0, 1000)\n",
    "randomSeedB = randint(0, 1000)\n",
    "(pontosA, EnvoltoriaA) = EnvoltoriaAleatoria(seedParam=randomSeedA, numDots=nPoints)\n",
    "(pontosB, EnvoltoriaB) = EnvoltoriaAleatoria(randomSeedB, nPoints, 60, 200, 60, 200)\n",
    "\n",
    "fig, ax = plt.subplots()\n",
    "\n",
    "plotEnvoltoria(ax, pontosA, EnvoltoriaA)\n",
    "plotEnvoltoria(ax, pontosB, EnvoltoriaB, dotType='go', envType='y-')\n",
    "\n",
    "endPointList, segmentsList = preProcessConvexHull(EnvoltoriaA= EnvoltoriaA, EnvoltoriaB= EnvoltoriaB)\n",
    "\n",
    "if(not sweepLineIntersection(endPointList, segmentsList)):\n",
    "    modLines = ourModel(EnvoltoriaA, EnvoltoriaB)\n",
    "    a, b = modLines[1]\n",
    "    ax.plot([a.x, b.x], [a.y, b.y], 'r-')\n",
    "    \n",
    "    c, d = modLines[0]\n",
    "    ax.plot([c.x, d.x], [c.y, d.y], 'r-')\n",
    "\n",
    "    print(modLines[2])\n",
    "\n",
    "plt.show()\n"
   ]
  },
  {
   "cell_type": "code",
   "execution_count": null,
   "metadata": {},
   "outputs": [],
   "source": [
    "# %pip install pandas"
   ]
  },
  {
   "cell_type": "code",
   "execution_count": null,
   "metadata": {},
   "outputs": [],
   "source": [
    "# %pip install sklearn"
   ]
  },
  {
   "cell_type": "code",
   "execution_count": null,
   "metadata": {},
   "outputs": [],
   "source": [
    "import pandas as pd\n",
    "def plotClass(List, ax, dotType='r*', envType='b-', compareCol1=1, compareCol2=2, withNoise=True):\n",
    "    # Recebe uma tabela com duas colunas referentes ao x e y da classe\n",
    "\n",
    "    x = []\n",
    "    y  = []\n",
    "    dot_list = []\n",
    "    for row in List.itertuples():\n",
    "        a = noise(row[compareCol1]) if withNoise else row[compareCol1]\n",
    "        b = noise(row[compareCol2]) if withNoise else row[compareCol2]\n",
    "        dot = Dot(a, b)\n",
    "        x.append(a)\n",
    "        y.append(b)\n",
    "        dot_list.append(dot)\n",
    "\n",
    "    sorted_list = sortDotsByPolarAngle(dot_list)\n",
    "    env = Graham(sorted_list)\n",
    "    plotEnvoltoria(ax, dot_list, env, dotType=dotType, envType=envType)"
   ]
  },
  {
   "cell_type": "code",
   "execution_count": null,
   "metadata": {},
   "outputs": [],
   "source": [
    "def createDots(setPoints, compareCol1, compareCol2, withNoise) -> list:\n",
    "    dot_list = []\n",
    "\n",
    "    for row in setPoints.itertuples():\n",
    "        a = noise(row[compareCol1]) if withNoise else row[compareCol1]\n",
    "        b = noise(row[compareCol2]) if withNoise else row[compareCol2]\n",
    "        dot = Dot(a, b)\n",
    "        dot_list.append(dot)\n",
    "    \n",
    "    return dot_list"
   ]
  },
  {
   "cell_type": "code",
   "execution_count": null,
   "metadata": {},
   "outputs": [],
   "source": [
    "def classificacao(setPoints, compareCol1, compareCol2, model, whoIsLeft, whoIsRight) -> list:\n",
    "    y = []\n",
    "\n",
    "    for row in setPoints.itertuples():\n",
    "        a = row[compareCol1]\n",
    "        b = row[compareCol2]\n",
    "        dot = Dot(a, b)\n",
    "        \n",
    "        direcao = direction(model[0], model[1], dot)\n",
    "\n",
    "        if direcao > 0:\n",
    "            y.append(whoIsLeft)\n",
    "        elif direcao < 0:\n",
    "            y.append(whoIsRight)\n",
    "        else:\n",
    "            y.append(\"dot is on the point\")\n",
    "    \n",
    "    return y"
   ]
  },
  {
   "cell_type": "code",
   "execution_count": null,
   "metadata": {},
   "outputs": [],
   "source": [
    "def plotModel(X, ax, filter, rotulo, dotType='r*', envType='b-', compareCol1=1, compareCol2=2, withNoise=True, plotEnv=False):\n",
    "    envoltorias = []\n",
    "\n",
    "    # Processamento das dados e Calculas as envoltorias\n",
    "    dotList = []\n",
    "    setDots = [X[filter], X[~filter]]\n",
    "    for points in setDots:\n",
    "        dots = createDots(points, compareCol1, compareCol2, withNoise)\n",
    "        sorted_list = sortDotsByPolarAngle(dots)\n",
    "        envoltoria = Graham(sorted_list)\n",
    "        dotList += dots\n",
    "        envoltorias.append(envoltoria)\n",
    "        plotEnvoltoria(ax, dots, envoltoria, dotType=dotType, envType=envType)\n",
    "\n",
    "    # Verifica se tem Interseção\n",
    "    endPointList, segmentsList = preProcessConvexHull(envoltorias[0], envoltorias[1])\n",
    "    hasIntersection = sweepLineIntersection(endPointList, segmentsList)\n",
    "\n",
    "    if hasIntersection:\n",
    "        return \"Os segmentos não são separaveis\"\n",
    "\n",
    "    # Plota o Modelo Linear\n",
    "    model = 1\n",
    "    firstConvexHullIsLeft = 1\n",
    "\n",
    "    if(not hasIntersection):\n",
    "        model, line, firstConvexHullIsLeft = ourModel(envoltorias[0], envoltorias[1])\n",
    "        a, b = line\n",
    "        ax.plot([a.x, b.x], [a.y, b.y], 'r-')\n",
    "        \n",
    "        c, d = model\n",
    "        ax.plot([c.x, d.x], [c.y, d.y], 'r-')\n",
    "\n",
    "    # Plota os pontos classificados\n",
    "    # Este trecho só tem utlidade visual\n",
    "    if not plotEnv:\n",
    "        for dot in dotList:\n",
    "            if direction(model[0], model[1], dot) > 0:\n",
    "                ax.plot(dot.x, dot.y, 'b.')\n",
    "            elif direction(model[0], model[1], dot) < 0:\n",
    "                ax.plot(dot.x, dot.y, 'g.')\n",
    "            else:\n",
    "                ax.plot(dot.x, dot.y, 'y.')\n",
    "\n",
    "    return (model, firstConvexHullIsLeft)\n",
    "    "
   ]
  },
  {
   "cell_type": "code",
   "execution_count": null,
   "metadata": {},
   "outputs": [],
   "source": [
    "from random import shuffle\n",
    "from sklearn.model_selection import train_test_split\n",
    "\n",
    "\n",
    "def test_train(df, label, atributeA, atributeB):\n",
    "    df = df[(df[label] == atributeA) | (df[label] == atributeB)]\n",
    "    \n",
    "    y = df[label]\n",
    "    X = df.drop(label, axis=1)\n",
    "\n",
    "    return train_test_split(X, y, random_state=25, train_size=0.7, shuffle=True)"
   ]
  },
  {
   "cell_type": "markdown",
   "metadata": {},
   "source": [
    "# Banana BD"
   ]
  },
  {
   "cell_type": "code",
   "execution_count": null,
   "metadata": {},
   "outputs": [],
   "source": [
    "import pandas as pd\n",
    "\n",
    "banana = pd.read_csv('./data/banana.csv', delimiter=',')\n",
    "\n",
    "aType = banana[banana['Class'] == 1]\n",
    "bType = banana[banana['Class'] == -1]"
   ]
  },
  {
   "cell_type": "code",
   "execution_count": null,
   "metadata": {},
   "outputs": [],
   "source": [
    "fig, ax = plt.subplots()\n",
    "plotClass(aType, ax)\n",
    "plotClass(bType, ax, dotType='y.', envType='g-')\n"
   ]
  },
  {
   "cell_type": "markdown",
   "metadata": {},
   "source": [
    "# Iris BD"
   ]
  },
  {
   "cell_type": "code",
   "execution_count": null,
   "metadata": {},
   "outputs": [],
   "source": [
    "import pandas as pd\n",
    "\n",
    "iris = pd.read_csv('./data/iris.csv', delimiter=',')\n",
    "\n",
    "rotulo = ['Iris-setosa', 'Iris-versicolor']\n",
    "\n",
    "X_train, X_test, y_train, y_test = test_train(iris, 'Class', rotulo[0], rotulo[1])\n",
    "filtro = y_train == rotulo[0]\n",
    "\n",
    "fig, ax = plt.subplots()\n",
    "plotModel(X_train, ax, filtro, rotulo, withNoise=False, plotEnv=True)\n",
    "plt.show()\n",
    "\n",
    "fig, ax = plt.subplots()\n",
    "model, firstConvexHullIsLeft = plotModel(X_train, ax, filtro, rotulo, withNoise=False)\n",
    "\n",
    "\n",
    "left = rotulo[0] if firstConvexHullIsLeft else rotulo[1]\n",
    "right = rotulo[1] if firstConvexHullIsLeft else rotulo[0]\n",
    "\n",
    "# Classificao Gerada Pelo Nosso Modelo\n",
    "y = classificacao(X_test, compareCol1=1, compareCol2=2, model=model, whoIsLeft=left, whoIsRight=right)\n"
   ]
  },
  {
   "cell_type": "markdown",
   "metadata": {},
   "source": [
    "# wine quality"
   ]
  },
  {
   "cell_type": "code",
   "execution_count": null,
   "metadata": {},
   "outputs": [],
   "source": [
    "wine = pd.read_csv('./data/winequality-white.csv', delimiter=',')\n",
    "\n",
    "aType = wine[wine['Quality'] == 4]\n",
    "bType = wine[wine['Quality'] == 8]\n",
    "\n",
    "fig, ax = plt.subplots()\n",
    "\n",
    "col = (aType.shape)[1]\n",
    "col2 = (bType.shape)[1]\n",
    "\n",
    "# for i in range(col):\n",
    "#     for j in range(col2):\n",
    "\n",
    "#         fig, ax = plt.subplots()\n",
    "#         plotClass(aType, ax, dotType='rx', envType='r-', compareCol1=i, compareCol2=j)\n",
    "#         plotClass(bType, ax, dotType='g.', envType='g-', compareCol1=i, compareCol2=j)\n",
    "#         plt.show()"
   ]
  },
  {
   "cell_type": "markdown",
   "metadata": {},
   "source": [
    "# Thyroid"
   ]
  },
  {
   "cell_type": "code",
   "execution_count": null,
   "metadata": {},
   "outputs": [],
   "source": [
    "thyroid = pd.read_csv('./data/thyroid.csv', delimiter=',')\n",
    "\n",
    "aType = thyroid[thyroid['Class'] == 3][['TSH', 'T3', 'TT4', 'T4U', 'FTI', 'Class']] # hipo\n",
    "bType = thyroid[thyroid['Class'] == 2][['TSH', 'T3', 'TT4', 'T4U', 'FTI', 'Class']] # hyper\n",
    "cType = thyroid[thyroid['Class'] == 1][['TSH', 'T3', 'TT4', 'T4U', 'FTI', 'Class']] # normal\n",
    "\n",
    "fig, ax = plt.subplots()\n",
    "\n",
    "a = 1\n",
    "b = 5\n",
    "plotClass(bType, ax, dotType='yx', envType='g-', compareCol1=a, compareCol2=b, withNoise=False)\n",
    "plotClass(cType, ax, dotType='r.', envType='b-', compareCol1=a, compareCol2=b, withNoise=False)\n",
    "\n",
    "\n"
   ]
  },
  {
   "cell_type": "markdown",
   "metadata": {},
   "source": [
    "# Phoneme\n"
   ]
  },
  {
   "cell_type": "code",
   "execution_count": null,
   "metadata": {},
   "outputs": [],
   "source": [
    "phoneme = pd.read_csv('./data/phoneme.csv', delimiter=',')\n",
    "\n",
    "aType = phoneme[phoneme['Class'] == 0]\n",
    "bType = phoneme[phoneme['Class'] == 1]\n",
    "\n",
    "fig, ax = plt.subplots()\n",
    "\n",
    "col = (aType.shape)[1]\n",
    "col2 = (bType.shape)[1]\n",
    "\n",
    "# for i in range(col):\n",
    "#     for j in range(col2):\n",
    "\n",
    "#         fig, ax = plt.subplots()\n",
    "#         plotClass(aType, ax, dotType='rx', envType='r-', compareCol1=i, compareCol2=j)\n",
    "#         plotClass(bType, ax, dotType='g.', envType='g-', compareCol1=i, compareCol2=j)\n"
   ]
  },
  {
   "cell_type": "markdown",
   "metadata": {},
   "source": [
    "# Breast Cancer Wisconsin"
   ]
  },
  {
   "cell_type": "code",
   "execution_count": null,
   "metadata": {},
   "outputs": [],
   "source": [
    "import numpy as np\n",
    "\n",
    "cancer = pd.read_csv('./data/wdbc.csv', delimiter=',')\n",
    "\n",
    "aType = cancer[cancer['Class'] == 'M']\n",
    "bType = cancer[cancer['Class'] == 'B']\n",
    "\n",
    "col = (aType.shape)[1]\n",
    "\n",
    "# for i in range(col):\n",
    "#     for j in range(col):\n",
    "\n",
    "#         fig, ax = plt.subplots()\n",
    "#         plotClass(aType, ax, dotType='rx', envType='r-', compareCol1=i, compareCol2=j)\n",
    "#         plotClass(bType, ax, dotType='g.', envType='g-', compareCol1=i, compareCol2=j)\n",
    "\n",
    "# plt.show()"
   ]
  },
  {
   "cell_type": "markdown",
   "metadata": {},
   "source": [
    "# Ionosphere"
   ]
  },
  {
   "cell_type": "code",
   "execution_count": null,
   "metadata": {},
   "outputs": [],
   "source": [
    "ionosphere = pd.read_csv('./data/ionosphere.csv', delimiter=',')\n",
    "\n",
    "aType = ionosphere[ionosphere['Class'] == 'b']\n",
    "bType = ionosphere[ionosphere['Class'] == 'g']\n",
    "\n",
    "\n",
    "# fig, ax = plt.subplots()\n",
    "# a = 24\n",
    "# b = 15\n",
    "\n",
    "# plotClass(aType, ax, dotType='rx', envType='r-', compareCol1=a, compareCol2=b)\n",
    "# plotClass(bType, ax, dotType='g.', envType='g-', compareCol1=a, compareCol2=b)\n",
    "\n",
    "# plt.show()\n",
    "\n",
    "aType[['Pulse24', 'Pulse27']]"
   ]
  },
  {
   "cell_type": "markdown",
   "metadata": {},
   "source": [
    "Coil2000"
   ]
  },
  {
   "cell_type": "code",
   "execution_count": null,
   "metadata": {},
   "outputs": [],
   "source": [
    "coil2000 = pd.read_csv('./data/coil2000.csv', delimiter=',')\n",
    "\n",
    "aType = coil2000[coil2000['CARAVAN'] == 0]\n",
    "bType = coil2000[coil2000['CARAVAN'] == 1]\n",
    "\n",
    "\n",
    "fig, ax = plt.subplots()\n",
    "\n",
    "# col = (aType.shape)[1]\n",
    "\n",
    "# for i in range(col):\n",
    "#     for j in range(col):\n",
    "\n",
    "#         fig, ax = plt.subplots()\n",
    "#         plotClass(aType, ax, dotType='rx', envType='r-', compareCol1=i, compareCol2=j)\n",
    "#         plotClass(bType, ax, dotType='g.', envType='g-', compareCol1=i, compareCol2=j)\n",
    "#         plt.show()\n"
   ]
  },
  {
   "cell_type": "markdown",
   "metadata": {},
   "source": [
    "movement_libras"
   ]
  },
  {
   "cell_type": "code",
   "execution_count": null,
   "metadata": {},
   "outputs": [],
   "source": [
    "movement_libras = pd.read_csv('./data/movement_libras.csv', delimiter=',')\n",
    "\n",
    "aType = movement_libras[movement_libras['Class'] == 1]\n",
    "bType = movement_libras[movement_libras['Class'] == 12]\n",
    "\n",
    "# fig, ax = plt.subplots()\n",
    "\n",
    "# col = (aType.shape)[1]\n",
    "# col = (bType.shape)[1]\n",
    "\n",
    "# for i in range(col):\n",
    "#     for j in range(col2):\n",
    "\n",
    "#         fig, ax = plt.subplots()\n",
    "#         plotClass(aType, ax, dotType='rx', envType='r-', compareCol1=i, compareCol2=j)\n",
    "#         plotClass(bType, ax, dotType='g.', envType='g-', compareCol1=i, compareCol2=j)\n",
    "#         print(i, j)\n",
    "#         plt.show()"
   ]
  }
 ],
 "metadata": {
  "kernelspec": {
   "display_name": "Python 3.10.4 64-bit",
   "language": "python",
   "name": "python3"
  },
  "language_info": {
   "codemirror_mode": {
    "name": "ipython",
    "version": 3
   },
   "file_extension": ".py",
   "mimetype": "text/x-python",
   "name": "python",
   "nbconvert_exporter": "python",
   "pygments_lexer": "ipython3",
   "version": "3.10.4"
  },
  "orig_nbformat": 4,
  "vscode": {
   "interpreter": {
    "hash": "916dbcbb3f70747c44a77c7bcd40155683ae19c65e1c03b4aa3499c5328201f1"
   }
  }
 },
 "nbformat": 4,
 "nbformat_minor": 2
}

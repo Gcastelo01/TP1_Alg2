{
 "cells": [
  {
   "cell_type": "markdown",
   "metadata": {},
   "source": [
    "# Trabalho Prático 1\n",
    "## Grupo:\n",
    "* Gabriel Alves Reis, \n",
    "* Gabriel Castelo Branco Rocha Alencar Pinto, 2020006523\n",
    "* Samuel Brísio, \n"
   ]
  },
  {
   "cell_type": "code",
   "execution_count": 49,
   "metadata": {},
   "outputs": [],
   "source": [
    "# %pip install pandas\n",
    "# %pip install matplotlib"
   ]
  },
  {
   "cell_type": "markdown",
   "metadata": {},
   "source": []
  },
  {
   "cell_type": "markdown",
   "metadata": {},
   "source": [
    "1- Envoltória Convexa (Gift Wrapping ??)\n",
    "- Implementar primitiva de posição relativa de semiretas\n",
    "- Sorted (default do python) com nossa primitiva\n",
    "- Algoritmo da Envoltória (Gift Wrapping)\n",
    "    - (conj. de pontos) -> (conj. de pontos)\n",
    "- função para visualizar a envoltória"
   ]
  },
  {
   "cell_type": "code",
   "execution_count": 50,
   "metadata": {},
   "outputs": [],
   "source": [
    "# imports"
   ]
  },
  {
   "cell_type": "code",
   "execution_count": 51,
   "metadata": {},
   "outputs": [],
   "source": [
    "class Dot:\n",
    "    def __init__(self, x, y):\n",
    "        self.x = x\n",
    "        self.y = y\n",
    "\n",
    "    def __lt__(self, b):\n",
    "        A = (self.x)*(b.y)\n",
    "        B = (self.y)*(b.x)\n",
    "        return (A - B) > 0\n",
    "    \n",
    "    def __sub__(self, b):\n",
    "        return Dot(self.x - b.x, self.y - b.y)\n",
    "    \n",
    "    def __add__(self, b):\n",
    "        return Dot(self.x + b.x, self.y + b.y)\n",
    "\n",
    "    def __repr__(self):\n",
    "        return f'({self.x}, {self.y})'"
   ]
  },
  {
   "cell_type": "code",
   "execution_count": 52,
   "metadata": {},
   "outputs": [],
   "source": [
    "class Endpoint:\n",
    "    def __init__(self, dot:Dot, segmentIndx,  endpointType):\n",
    "        # endpoit type = 'left' | 'right'\n",
    "        self.dot = dot\n",
    "        self.segmentIndx = segmentIndx\n",
    "        self.endpointType = endpointType\n",
    "    \n",
    "    def __repr__(self):\n",
    "        return f'({self.dot}, {self.segmentIndx}, {self.endpointType})'\n",
    "\n",
    "    def __lt__(self, b):\n",
    "        if self.dot.x == b.dot.x:\n",
    "            if self.endpointType == b.endpointType:\n",
    "                return self.dot.y < b.dot.y\n",
    "            else:\n",
    "                return True if self.endpointType == 'left' else False\n",
    "        else: \n",
    "            return self.dot.x < b.dot.x"
   ]
  },
  {
   "cell_type": "code",
   "execution_count": 53,
   "metadata": {},
   "outputs": [],
   "source": [
    "class Segment:\n",
    "    def __init__(self, left:Dot, right:Dot):\n",
    "        self.left = left\n",
    "        self.right = right\n",
    "\n",
    "    def __repr__(self):\n",
    "        return f'( {self.left} -> {self.right} )'"
   ]
  },
  {
   "cell_type": "code",
   "execution_count": 54,
   "metadata": {},
   "outputs": [],
   "source": [
    "def sortDotsByPolarAngle(dotsParam):\n",
    "    dots = dotsParam.copy()\n",
    "    anchor = dots[0]\n",
    "    indx = 0\n",
    "    anchor_indx = indx\n",
    "    # find anchor\n",
    "    for p in dots:\n",
    "        if p.y < anchor.y :\n",
    "            anchor = p\n",
    "            anchor_indx = indx\n",
    "        elif (p.y == anchor.y and p.x < anchor.x) :\n",
    "            anchor = p  \n",
    "            anchor_indx = indx\n",
    "        indx += 1\n",
    "\n",
    "    # normalize dots\n",
    "    norm_dots = []\n",
    "    dots.pop(anchor_indx)\n",
    "    for dot in dots:\n",
    "        norm_dots.append(dot - anchor)\n",
    "    \n",
    "    norm_dots.sort()\n",
    "\n",
    "    sorted_dots = [anchor]\n",
    "    for dot in norm_dots:\n",
    "        sorted_dots.append(dot + anchor)\n",
    "\n",
    "    return sorted_dots"
   ]
  },
  {
   "cell_type": "code",
   "execution_count": 55,
   "metadata": {},
   "outputs": [],
   "source": [
    "import random\n",
    "def noise(x):\n",
    "    return x + random.random()"
   ]
  },
  {
   "cell_type": "code",
   "execution_count": 56,
   "metadata": {},
   "outputs": [
    {
     "data": {
      "image/png": "[encoded data removed]",
      "text/plain": [
       "<Figure size 640x480 with 1 Axes>"
      ]
     },
     "metadata": {},
     "output_type": "display_data"
    }
   ],
   "source": [
    "import matplotlib.pyplot as plt\n",
    "from random import randint \n",
    "import random\n",
    "\n",
    "dot_list = []\n",
    "\n",
    "random.seed(16)\n",
    "for i in range(30):\n",
    "    x = randint(0,200)\n",
    "    y = noise(randint(0,200))\n",
    "    a = Dot(x, y)\n",
    "    dot_list.append(a)\n",
    "\n",
    "x = []\n",
    "y = []\n",
    "\n",
    "for e in sortDotsByPolarAngle(dot_list):\n",
    "    x.append(e.x)\n",
    "    y.append(e.y)\n",
    "\n",
    "fig, ax = plt.subplots()\n",
    "ax.plot(x, y, 'r*')\n",
    "\n",
    "for i, txt in enumerate(range(len(x))):\n",
    "    ax.annotate(txt, (x[i], y[i]))\n",
    "plt.ylabel('some numbers')\n",
    "plt.show()\n"
   ]
  },
  {
   "cell_type": "markdown",
   "metadata": {},
   "source": [
    "# Envoltória"
   ]
  },
  {
   "cell_type": "code",
   "execution_count": 57,
   "metadata": {},
   "outputs": [],
   "source": [
    "def isLeftTurn(a, b, c):\n",
    "    B = b - a\n",
    "    C = c - a\n",
    "\n",
    "    term1 = (B.x)*(C.y)\n",
    "    term2 = (B.y)*(C.x)\n",
    "    return (term1 - term2) > 0"
   ]
  },
  {
   "cell_type": "code",
   "execution_count": 58,
   "metadata": {},
   "outputs": [],
   "source": [
    "def Graham(DotListParam):\n",
    "    # retorna lista de pontos\n",
    "    DotList = DotListParam\n",
    "    stack = []\n",
    "    stack.append(DotList[0])\n",
    "    stack.append(DotList[1])\n",
    "    stack.append(DotList[2])\n",
    "\n",
    "    for i in range(3, len(DotList), 1):\n",
    "        laster = len(stack) - 1\n",
    "        while not isLeftTurn(stack[laster - 1], stack[laster], DotList[i]):\n",
    "            stack.pop()\n",
    "            laster -= 1\n",
    "        stack.append(DotList[i])\n",
    "\n",
    "    return stack"
   ]
  },
  {
   "cell_type": "code",
   "execution_count": 59,
   "metadata": {},
   "outputs": [
    {
     "data": {
      "image/png": "[encoded data removed]",
      "text/plain": [
       "<Figure size 640x480 with 1 Axes>"
      ]
     },
     "metadata": {},
     "output_type": "display_data"
    }
   ],
   "source": [
    "fig, ax = plt.subplots()\n",
    "ax.plot(x, y, 'r*')\n",
    "\n",
    "for i, txt in enumerate(range(len(x))):\n",
    "    ax.annotate(txt, (x[i], y[i]))\n",
    "plt.ylabel('some numbers')\n",
    "\n",
    "x_envolt = []\n",
    "y_envolt = []\n",
    "\n",
    "sorted_list = sortDotsByPolarAngle(dot_list)\n",
    "\n",
    "convexEnvelope = Graham(sorted_list)\n",
    "for e in convexEnvelope:\n",
    "    x_envolt.append(e.x)\n",
    "    y_envolt.append(e.y)\n",
    "\n",
    "\n",
    "ax.plot(x_envolt, y_envolt, 'b-')\n",
    "ax.plot([x_envolt[len(x_envolt) - 1], x_envolt[0]], [y_envolt[len(y_envolt) - 1], y_envolt[0]], 'g-')\n",
    "plt.show()"
   ]
  },
  {
   "cell_type": "markdown",
   "metadata": {},
   "source": [
    "# Varredura"
   ]
  },
  {
   "cell_type": "markdown",
   "metadata": {},
   "source": []
  },
  {
   "cell_type": "code",
   "execution_count": 60,
   "metadata": {},
   "outputs": [],
   "source": [
    "# Verifica se o ponto p3 está na semireta p1p2. \n",
    "# p1, p2 e p3 são colineares\n",
    "def on_segment(p1:Dot, p2:Dot, p3:Dot):\n",
    "    p1HasLessX = p1.x < p2.x \n",
    "    if p1HasLessX and p1.x < p3.x and p2.x > p3.x:\n",
    "        return True\n",
    "    if p2.x < p3.x and p1.x > p3.x:\n",
    "        return True\n",
    "    return False"
   ]
  },
  {
   "cell_type": "code",
   "execution_count": 61,
   "metadata": {},
   "outputs": [],
   "source": [
    "def direction(a, b, c):\n",
    "    # return 1 if turn left\n",
    "    # return -1 if turn right\n",
    "    # return 0 if is co-linear\n",
    "    \n",
    "    B = b - a\n",
    "    C = c - a\n",
    "\n",
    "    term1 = (B.x)*(C.y)\n",
    "    term2 = (B.y)*(C.x)\n",
    "    return (term1 - term2) "
   ]
  },
  {
   "cell_type": "code",
   "execution_count": 62,
   "metadata": {},
   "outputs": [],
   "source": [
    "def segments_intersect(p1, p2, p3, p4):\n",
    "    d1 = direction(p3, p4, p1)\n",
    "    d2 = direction(p3, p4, p2)\n",
    "    d3 = direction(p1, p2, p3)\n",
    "    d4 = direction(p1, p2, p4)\n",
    "\n",
    "    res = False\n",
    "\n",
    "    if ((d1 > 0 and d2 < 0) or (d1 < 0 and d2 > 0)) and ((d3 > 0 and d4 < 0) or (d3 < 0 and d4 > 0)):\n",
    "        res = True\n",
    "    if d1 == 0 and on_segment(p3, p4, p1):\n",
    "        res = True\n",
    "    if d2 == 0 and on_segment(p3, p4, p2):\n",
    "        res = True\n",
    "    if d3 == 0 and on_segment(p1, p2, p3):\n",
    "        res = True\n",
    "    if d4 == 0 and on_segment(p1, p2, p4):\n",
    "        res = True\n",
    "    return res"
   ]
  },
  {
   "cell_type": "code",
   "execution_count": 63,
   "metadata": {},
   "outputs": [],
   "source": [
    "# def aux_segments_intersect(s1:Segment, s2:Segment):\n",
    "#     return segments_intersect(s1.left, s1.right, s2.left, s2.right)\n",
    "\n",
    "\n",
    "def aux_segments_intersect(s1:Segment, avl, sucessor = False, previous = False):\n",
    "    try:\n",
    "        if sucessor:\n",
    "            s2 = avl.succ_item(s1.left.y)[1]\n",
    "            return segments_intersect(s1.left, s1.right, s2.left, s2.right)\n",
    "        if previous:\n",
    "            s2 = avl.prev_item(s1.left.y)[1]\n",
    "            return segments_intersect(s1.left, s1.right, s2.left, s2.right)\n",
    "    except:\n",
    "        # Caso não tenha um sucessor ou antecessor\n",
    "        return False"
   ]
  },
  {
   "cell_type": "code",
   "execution_count": 64,
   "metadata": {},
   "outputs": [],
   "source": [
    "\n",
    "\n",
    "# Sorting endpoints\n",
    "endpoitsList:Endpoint = []\n",
    "segmentsList:Segment = []\n",
    "for i in range(len(convexEnvelope) - 1):\n",
    "    a = convexEnvelope[i]\n",
    "    b = convexEnvelope[i + 1]\n",
    "\n",
    "    left = a if a.x < b.x else b\n",
    "    right = a if a.x >= b.x else b\n",
    "    s = Endpoint(left, i, 'left')\n",
    "    e = Endpoint(right, i, 'right')\n",
    "\n",
    "    endpoitsList.append(s)\n",
    "    endpoitsList.append(e)\n",
    "\n",
    "    segmentsList.append(Segment(left, right))\n",
    "\n",
    "lastIndx = len(convexEnvelope) - 1\n",
    "last = convexEnvelope[lastIndx]\n",
    "first = convexEnvelope[0]\n",
    "\n",
    "left = last if last.x < first.x else first\n",
    "right = last if last.x >= first.x else first\n",
    "s =  Endpoint(left, lastIndx, 'left')\n",
    "e =  Endpoint(right, lastIndx, 'right')\n",
    "endpoitsList.append(s)\n",
    "endpoitsList.append(e)\n",
    "\n",
    "segmentsList.append(Segment(left, right))\n",
    "\n",
    "\n",
    "endpoitsList.sort()\n",
    "# endpoitsList\n",
    "# segmentsList"
   ]
  },
  {
   "cell_type": "code",
   "execution_count": 65,
   "metadata": {},
   "outputs": [],
   "source": [
    "# %pip install bintrees"
   ]
  },
  {
   "cell_type": "code",
   "execution_count": 66,
   "metadata": {},
   "outputs": [],
   "source": [
    "def isAbove(avl, key, endpointType='left'):\n",
    "    if endpointType == 'left':\n",
    "        try:\n",
    "            avl.succ_key(key)\n",
    "        except:\n",
    "            return False\n",
    "        return True\n",
    "\n",
    "    if avl.__contains__(key):\n",
    "        try:\n",
    "            avl.succ_item(key)[0] \n",
    "            return True\n",
    "        except:\n",
    "            return False\n",
    "    else:\n",
    "        try:\n",
    "            avl.ceiling_item(key)[0]\n",
    "            return True\n",
    "        except:\n",
    "            return False"
   ]
  },
  {
   "cell_type": "code",
   "execution_count": 67,
   "metadata": {},
   "outputs": [],
   "source": [
    "def isBelow(avl, key, endpointType='left'):\n",
    "    if endpointType == 'left':\n",
    "        try:\n",
    "            avl.prev_key(key)\n",
    "        except:\n",
    "            return False\n",
    "        return True\n",
    "    \n",
    "\n",
    "    if avl.__contains__(key):\n",
    "        try:\n",
    "            avl.prev_item(key) \n",
    "            return True\n",
    "        except:\n",
    "            return False\n",
    "    else:\n",
    "        try:\n",
    "            avl.floor_item(key)\n",
    "            return True\n",
    "        except:\n",
    "            return False\n",
    "    "
   ]
  },
  {
   "cell_type": "code",
   "execution_count": 68,
   "metadata": {},
   "outputs": [],
   "source": [
    "import bintrees\n",
    "\n",
    "def sweepLineIntersection(endpoitsList, segmentsList):\n",
    "    avl = bintrees.AVLTree()\n",
    "\n",
    "    for p in endpoitsList:\n",
    "        s = segmentsList[p.segmentIndx]\n",
    "        if p.endpointType == 'left':\n",
    "            avl.insert(s.left.y, s)\n",
    "            if (isAbove(avl, s.left.y) and aux_segments_intersect(s, avl, sucessor=True)):  \n",
    "                return True\n",
    "            if (isBelow(avl, s.left.y) and aux_segments_intersect(s, avl, previous=True)):\n",
    "                return True\n",
    "        else:\n",
    "            if (isAbove(avl, s.right.y, endpointType='right') and isBelow(avl, s.right.y, endpointType='right')):\n",
    "                if(aux_segments_intersect(avl.ceiling_item(s.right.y)[1], avl.floor_item(s.right.y)[1])):\n",
    "                    return True\n",
    "            avl.pop(s.left.y, 'error')\n",
    "    return False"
   ]
  },
  {
   "cell_type": "markdown",
   "metadata": {},
   "source": [
    "# Teste"
   ]
  },
  {
   "cell_type": "markdown",
   "metadata": {},
   "source": [
    "Envoltoria 1"
   ]
  },
  {
   "cell_type": "code",
   "execution_count": 69,
   "metadata": {},
   "outputs": [
    {
     "data": {
      "image/png": "[encoded data removed]",
      "text/plain": [
       "<Figure size 640x480 with 1 Axes>"
      ]
     },
     "metadata": {},
     "output_type": "display_data"
    }
   ],
   "source": [
    "def EnvoltoriaAleatoria(seed=12, numDots=20, x_inicial=0, x_final=100, y_inicial=0, y_final=100):\n",
    "    dot_list = []\n",
    "\n",
    "    random.seed(seed)\n",
    "    for i in range(numDots):\n",
    "        x = randint(x_inicial, x_final)\n",
    "        y = noise(randint(y_inicial,y_final))\n",
    "        a = Dot(x, y)\n",
    "        dot_list.append(a)\n",
    "\n",
    "    sorted_list = sortDotsByPolarAngle(dot_list)\n",
    "\n",
    "    return  (dot_list, Graham(sorted_list))\n",
    "\n",
    "def plotEnvoltoria(ax, pontos, envoltoria, dotType='r*', envType='b-'):\n",
    "    \n",
    "    for i in range(len(pontos)):\n",
    "        ax.plot(pontos[i].x, pontos[i].y, dotType)\n",
    "    \n",
    "    lista_Envoltoria = [[], []]\n",
    "\n",
    "    for e in envoltoria:\n",
    "        lista_Envoltoria[0].append(e.x)\n",
    "        lista_Envoltoria[1].append(e.y)\n",
    "    \n",
    "    ax.plot(lista_Envoltoria[0], lista_Envoltoria[1], envType)\n",
    "    ax.plot([lista_Envoltoria[0][len(lista_Envoltoria[0]) - 1], lista_Envoltoria[0][0]], [lista_Envoltoria[1][len(lista_Envoltoria[1]) - 1], lista_Envoltoria[1][0]], envType)\n",
    " \n",
    "\n",
    "nPoints = 3\n",
    "(pontosA, EnvoltoriaA) = EnvoltoriaAleatoria(numDots=nPoints)\n",
    "(pontosB, EnvoltoriaB) = EnvoltoriaAleatoria(15, nPoints, 30, 200, 30, 200)\n",
    "\n",
    "fig, ax = plt.subplots()\n",
    "\n",
    "plotEnvoltoria(ax, pontosA, EnvoltoriaA)\n",
    "plotEnvoltoria(ax, pontosB, EnvoltoriaB, dotType='go', envType='y-')\n",
    "\n",
    "plt.show()\n"
   ]
  },
  {
   "cell_type": "code",
   "execution_count": null,
   "metadata": {},
   "outputs": [],
   "source": []
  },
  {
   "cell_type": "code",
   "execution_count": null,
   "metadata": {},
   "outputs": [],
   "source": []
  },
  {
   "cell_type": "code",
   "execution_count": 74,
   "metadata": {},
   "outputs": [],
   "source": [
    "def shortenSegment(pontoA:Dot, pontoB:Dot):\n",
    "    # ax + b = y\n",
    "    if pontoA.x == pontoB.x:\n",
    "        lft = Dot(pontoA.x, (pontoA.y + 0.0001))\n",
    "        rgt = Dot(pontoB.x, (pontoB.y - 0.0001))\n",
    "        \n",
    "        return (lft, rgt)\n",
    "    else:\n",
    "        a = (pontoB.y - pontoA.y)/(pontoB.x - pontoA.x)\n",
    "        b = pontoA.y - a*pontoA.x\n",
    "\n",
    "        lft = Dot(pontoA.x + 0.0001, b + a*(pontoA.x + 0.0001))\n",
    "        rgt = Dot(pontoB.x - 0.0001, b + a*(pontoB.x - 0.0001))\n",
    "\n",
    "        return (lft, rgt)\n",
    "\n",
    "\n",
    "def preProcessConvexHull(EnvoltoriaA, EnvoltoriaB):\n",
    "    \n",
    "    endpoitsList:Endpoint = []\n",
    "    segmentsList:Segment = []\n",
    "\n",
    "    for i in range(len(EnvoltoriaA) - 1):\n",
    "        dotA = EnvoltoriaA[i]\n",
    "        dotB = EnvoltoriaA[i + 1]\n",
    "\n",
    "        left = dotA if dotA.x < dotB.x else dotB\n",
    "        right = dotA if dotA.x >= dotB.x else dotB\n",
    "\n",
    "        # encurtando\n",
    "        left, right = shortenSegment(left, right)\n",
    "\n",
    "        endpoitsList.append(Endpoint(left, segmentIndx=i, endpointType='left'))\n",
    "        endpoitsList.append(Endpoint(right, segmentIndx=i, endpointType='right'))\n",
    "\n",
    "        segmentsList.append(Segment(left, right))\n",
    "\n",
    "    pn = EnvoltoriaA[-1]\n",
    "    p0 = EnvoltoriaA[0]\n",
    "\n",
    "    \n",
    "    left = pn if pn.x < p0.x else p0\n",
    "    right = pn if pn.x >= p0.x else p0\n",
    "\n",
    "    # encurtando\n",
    "    left, right = shortenSegment(left, right)\n",
    "\n",
    "    segmentMax = len(segmentsList)\n",
    "\n",
    "    endpoitsList.append(Endpoint(left, segmentIndx=segmentMax, endpointType='left'))\n",
    "    endpoitsList.append(Endpoint(right, segmentIndx=segmentMax, endpointType='right'))\n",
    "    segmentsList.append(Segment(left, right))\n",
    "\n",
    "\n",
    "    for j in range(len(EnvoltoriaA), len(EnvoltoriaA) + len(EnvoltoriaB) - 1):\n",
    "        i = j - len(EnvoltoriaA)\n",
    "        dotA = EnvoltoriaB[i]\n",
    "        dotB = EnvoltoriaB[i + 1]\n",
    "\n",
    "        left = dotA if dotA.x < dotB.x else dotB\n",
    "        right = dotA if dotA.x >= dotB.x else dotB\n",
    "\n",
    "        # encurtando\n",
    "        left, right = shortenSegment(left, right)\n",
    "\n",
    "        endpoitsList.append(Endpoint(left, segmentIndx=j, endpointType='left'))\n",
    "        endpoitsList.append(Endpoint(right, segmentIndx=j, endpointType='right'))\n",
    "\n",
    "        segmentsList.append(Segment(left, right))\n",
    "    \n",
    "\n",
    "    pn = EnvoltoriaB[-1]\n",
    "    p0 = EnvoltoriaB[0]\n",
    "    left = pn if pn.x < p0.x else p0\n",
    "    right = pn if pn.x >= p0.x else p0\n",
    "\n",
    "    # encurtando\n",
    "    left, right = shortenSegment(left, right)\n",
    "\n",
    "    segmentMax = len(segmentsList)\n",
    "\n",
    "    endpoitsList.append(Endpoint(left, segmentIndx=segmentMax, endpointType='left'))\n",
    "    endpoitsList.append(Endpoint(right, segmentIndx=segmentMax, endpointType='right'))\n",
    "    segmentsList.append(Segment(left, right))\n",
    "\n",
    "    endpoitsList.sort()\n",
    "    \n",
    "    return (endpoitsList, segmentsList)\n"
   ]
  },
  {
   "cell_type": "code",
   "execution_count": 109,
   "metadata": {},
   "outputs": [
    {
     "name": "stdout",
     "output_type": "stream",
     "text": [
      "False\n"
     ]
    },
    {
     "data": {
      "image/png": "[encoded data removed]",
      "text/plain": [
       "<Figure size 640x480 with 1 Axes>"
      ]
     },
     "metadata": {},
     "output_type": "display_data"
    }
   ],
   "source": [
    "nPoints = 30\n",
    "(pontosA, EnvoltoriaA) = EnvoltoriaAleatoria(7, numDots=nPoints)\n",
    "(pontosB, EnvoltoriaB) = EnvoltoriaAleatoria(21, nPoints, 150, 200, 30, 200)\n",
    "\n",
    "fig, ax = plt.subplots()\n",
    "\n",
    "plotEnvoltoria(ax, pontosA, EnvoltoriaA)\n",
    "plotEnvoltoria(ax, pontosB, EnvoltoriaB, dotType='go', envType='y-')\n",
    "\n",
    "e, s = preProcessConvexHull(EnvoltoriaA= EnvoltoriaA, EnvoltoriaB= EnvoltoriaB)\n",
    "\n",
    "print(sweepLineIntersection(e, s), )\n",
    "#model\n",
    "modlLines = ourModel(EnvoltoriaA, EnvoltoriaB)\n",
    "a, b = modlLines[1]\n",
    "ax.plot([a.x, b.x], [a.y, b.y], 'r-')\n",
    "a, b = modlLines[0]\n",
    "ax.plot([a.x, b.x], [a.y, b.y], 'r-')\n",
    "\n",
    "plt.show()\n",
    "\n"
   ]
  },
  {
   "cell_type": "code",
   "execution_count": 108,
   "metadata": {},
   "outputs": [],
   "source": [
    "def squareDotsDistance(dotA:Dot, dotB:Dot):\n",
    "    return (dotB.x - dotA.x)**2 + (dotB.y - dotA.y)**2\n",
    "\n",
    "def ourModel(EnvoltoriaA, EnvoltoriaB):\n",
    "    lenMin = squareDotsDistance(EnvoltoriaA[0], EnvoltoriaB[0])\n",
    "    aMin = EnvoltoriaA[0]\n",
    "    bMin = EnvoltoriaB[0]\n",
    "    for a in EnvoltoriaA:\n",
    "        for b in EnvoltoriaB:\n",
    "            if squareDotsDistance(a, b) < lenMin:\n",
    "                lenMin = squareDotsDistance(a, b)\n",
    "                aMin = a\n",
    "                bMin = b\n",
    "\n",
    "\n",
    "    left = aMin if aMin.x < bMin.x else bMin\n",
    "    right = aMin if aMin.x >= bMin.x else bMin\n",
    "    \n",
    "    xMedio = (left.x + right.x)/2\n",
    "    yMedio = (left.y + right.y)/2\n",
    "\n",
    "    angCoef = -1*((bMin.x - aMin.x)/(bMin.y - aMin.y))\n",
    "    bMediatriz = yMedio - angCoef*xMedio\n",
    "\n",
    "    mediatrizA = Dot(xMedio + 10, angCoef*(xMedio + 10) + bMediatriz)\n",
    "    mediatrizB = Dot(xMedio - 10, angCoef*(xMedio - 10) + bMediatriz)\n",
    "    \n",
    "\n",
    "    return [(mediatrizA, mediatrizB), (aMin, bMin)]"
   ]
  },
  {
   "cell_type": "markdown",
   "metadata": {},
   "source": [
    "Refazer: isAbove, para identificar se existe segmento acima quando o terminal for a direita. OK!\n",
    "\n",
    "Refazer: isBelow, para identificar se existe segmento abaixo quando o terminal for a direita. OK!\n",
    "\n",
    "onSegment: comparar dois segmentos consecultivos, que dará interceção OK!\n",
    "\n",
    "sweepLineIntersection: interceção válida apenas para envoltórias diferentes! Mudar definição de endpoint!"
   ]
  }
 ],
 "metadata": {
  "kernelspec": {
   "display_name": "Python 3.10.8 64-bit (microsoft store)",
   "language": "python",
   "name": "python3"
  },
  "language_info": {
   "codemirror_mode": {
    "name": "ipython",
    "version": 3
   },
   "file_extension": ".py",
   "mimetype": "text/x-python",
   "name": "python",
   "nbconvert_exporter": "python",
   "pygments_lexer": "ipython3",
   "version": "3.10.8"
  },
  "orig_nbformat": 4,
  "vscode": {
   "interpreter": {
    "hash": "e9e375da22a79186ffe49072ae6df2c8be50fc2c627f3d12cad18e70942528a3"
   }
  }
 },
 "nbformat": 4,
 "nbformat_minor": 2
}

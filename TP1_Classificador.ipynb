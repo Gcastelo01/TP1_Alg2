{
 "cells": [
  {
   "cell_type": "markdown",
   "metadata": {},
   "source": [
    "# Trabalho Prático 1\n",
    "## Grupo:\n",
    "* Gabriel Alves Reis, \n",
    "* Gabriel Castelo Branco Rocha Alencar Pinto, 2020006523\n",
    "* Samuel Brísio, \n"
   ]
  },
  {
   "cell_type": "markdown",
   "metadata": {},
   "source": [
    "## Introdução\n",
    "\n",
    "Neste notebook, foi implementado um algoritmo de Aprendizado de Máquina Supervisionado, ou seja, um algoritmo que, recebendo um determinado conjunto ou uma determinada base de dados, o algoritmo é capaz de aprender as características de diferentes amostras, permitindo-o classificar amostras desconhecidas em dois grupos. Outrossim, as tarefas do algoritmo são as seguintes:\n",
    "\n",
    "* Dado um conjunto, separar uma porcentagem das tarefas para treinamento do modelo\n",
    "* Estando o modelo treinado, a porcentagem restante é utilizada para poder validar o funcionamento do modelo, verificando se a capacidade de separação das amostras é válida.\n",
    "* Concluídas ambas estas etapas e validado o modelo, o mesmo estará pronto para receber amostras aleatórias daqueles dados, de modo a classificá-las com certa acurácia."
   ]
  },
  {
   "cell_type": "code",
   "execution_count": null,
   "metadata": {},
   "outputs": [],
   "source": [
    "# Importando Módulos para Funcionamento\n",
    "import matplotlib.pyplot as plt\n",
    "from random import randint, shuffle\n",
    "\n",
    "from modules.functions import *\n",
    "from modules.model import *\n",
    "\n",
    "import pandas as pd\n",
    "import numpy as np\n"
   ]
  },
  {
   "cell_type": "markdown",
   "metadata": {},
   "source": [
    "## Classes\n",
    "Foram declaradas as seguintes classes para uso nos algoritmos:"
   ]
  },
  {
   "cell_type": "markdown",
   "metadata": {},
   "source": [
    "### Dot"
   ]
  },
  {
   "cell_type": "markdown",
   "metadata": {},
   "source": [
    "Representa um ponto 2D que contem operações de '+', '-', '=' e  '<'.\n",
    "\n",
    "O principal uso desta classe esta na ordenação dos pontos pela coordenada polar, necessário para o algoritmo de Graham.\n",
    "\n",
    "No algoritmo de ordenação dos pontos ela coordenada polar: Após encontrar o âncora, utilizamos o operador '-' para centralizar o âncora na origem e todos os outros pontos em relação ao novo âncora. Isso porque o operador '<' tem como referência a origem (que agora é o ponto âncora). Após ordenar todos os pontos em relação ao âncora, voltamos os pontos para suas posições iniciais com o operador '+'."
   ]
  },
  {
   "cell_type": "markdown",
   "metadata": {},
   "source": [
    "\n",
    "### Endpoint"
   ]
  },
  {
   "cell_type": "markdown",
   "metadata": {},
   "source": [
    "Representa um evento no algoritmo de varredura linear.\n",
    "\n",
    "Esta classe contem uma representação do ponto (x, y), um índice que referencia um segmento em um array de segmentos (i.e. qual segmento o evento pertence) e se o evento é \"ponto a esquerda\" ou \"ponto a direita\".\n",
    "\n",
    "Além disso, foi implementado o oprador de '<' para a ordenação dos eventos em relação ao eixo-x. Com critério de desempate: eixo-y, tipo de evento.\n",
    "\n",
    "O operadofoi implementado para verificar se dois eventos estão no mesmo lugar no plano cartesiano e  pertencem a mesma semirreta. '=' .... SAMUEL\n"
   ]
  },
  {
   "cell_type": "markdown",
   "metadata": {},
   "source": [
    "\n",
    "### Segment"
   ]
  },
  {
   "cell_type": "markdown",
   "metadata": {},
   "source": [
    "Representa um segmento no algoritmo de varredura linear.\n",
    "\n",
    "Essa classe tem dois pontos e um rótulo que referencia a envoltória que o segmento pertence.\n",
    "\n",
    "O operador = foi necessario, para a saida de segmentos da arvore no algoritmo da Varredura."
   ]
  },
  {
   "cell_type": "code",
   "execution_count": null,
   "metadata": {},
   "outputs": [],
   "source": [
    "from IPython import display\n",
    "display.Image(\"./images/img1.jpg\")"
   ]
  },
  {
   "cell_type": "markdown",
   "metadata": {},
   "source": [
    "## Descrição dos Algoritmos"
   ]
  },
  {
   "cell_type": "markdown",
   "metadata": {},
   "source": [
    "### Graham"
   ]
  },
  {
   "cell_type": "markdown",
   "metadata": {},
   "source": [
    "Foi utilizado o algoritmo de Graham clássico para cálculo da envoltória convexa.\n",
    "\n",
    "A preferência deste algoritmo é devido a sua estabilidade em relação a entrada e saída. Por exemplo, o algoritmo de Gift Wraping tem complexidade de tempo O(h*n) em que h é a quantidade de segmentos da envoltória, logo ele é preferível quando o número de segmentos da envoltória é proximo de log(n), em seu pior caso Gift Wraping é O(n²). Por isso optamos pela estabilidade do Graham.\n",
    "\n",
    "Graham tem complexidade de O( n*log(n)) que é o custo de ordenar uma lista de pontos pela coordenada polar."
   ]
  },
  {
   "cell_type": "markdown",
   "metadata": {},
   "source": [
    "### Varredura Linear"
   ]
  },
  {
   "cell_type": "markdown",
   "metadata": {},
   "source": [
    "O algoritmo de varredura linear foi utilizado para verificação de intercessão entre as envoltórias. Ou seja, caso duas envoltórias/classes não tenham intercessão, elas serão linearmente separáveis, logo é possível criar uma reta que separa as classes que será nosso classificador.\n",
    "\n",
    "O algoritmo recebe uma lista ordenada de eventos e uma lista de segmentos, ambas representam as duas envoltórias.\n",
    "\n",
    "O algoritmo de Varredura foi adaptado para o problema de intercessão de envoltórias. O problema era: dois segmentos consecultivos de uma envoltória se cruzam, logo criamos duas AVLs para garantir que será contado intercessão apenas em envoltórias diferentes. **SAMU**"
   ]
  },
  {
   "cell_type": "markdown",
   "metadata": {},
   "source": [
    "### Modelo Ingênuo"
   ]
  },
  {
   "cell_type": "markdown",
   "metadata": {},
   "source": [
    "Uma vez que as classes são separáveis, operamos da seguinte maneira:\n",
    "\n",
    "1- Encontramos o menor segmento entre vértices das duas envoltórias, utilizando força bruta O(n²).\n",
    "\n",
    "2- Encontramos a mediatriz da semirreta do passo 1. Para isso, foi necessário o cálculo do coeficiente angular desta mediatriz. O(1)\n",
    "\n",
    "O modelo retorna a menor semirreta entre as envoltórias, mediatriz (reta que separa as envoltórias), e um valor boolena que diz se a primeira envoltória passada como argumento está a esquerda da mediatriz."
   ]
  },
  {
   "cell_type": "markdown",
   "metadata": {},
   "source": [
    "## Classificador"
   ]
  },
  {
   "cell_type": "markdown",
   "metadata": {},
   "source": [
    "Uma vez que temos a semirreta que separa as envoltórias (i.e. nosso modelo), basta verificar para um novo ponto se ele realiza uma curva a esqueda, a direita ou é colinear. A depender do tipo de curva é atribuido um rótulo de classe para o ponto. Essa etapa é O(n) pois atribuimos classes para cada ponto de teste."
   ]
  },
  {
   "cell_type": "markdown",
   "metadata": {},
   "source": [
    "## Bancos de Dados"
   ]
  },
  {
   "cell_type": "markdown",
   "metadata": {},
   "source": [
    "Falta realizar\n",
    "\n",
    "colocar as legendas no grafico\n",
    "\n",
    "    - Quais são as classes das Envoltorias\n",
    "\n",
    "    - Qual é a equação da reta"
   ]
  },
  {
   "cell_type": "markdown",
   "metadata": {},
   "source": [
    "### Banana"
   ]
  },
  {
   "cell_type": "markdown",
   "metadata": {},
   "source": [
    "#### Carrega o banco de dados"
   ]
  },
  {
   "cell_type": "code",
   "execution_count": null,
   "metadata": {},
   "outputs": [],
   "source": [
    "banana = pd.read_csv('./data/banana.csv', delimiter=',')\n",
    "\n",
    "Class = [1, -1]\n",
    "\n",
    "X_train, X_test, y_train, y_test = test_train(banana, 'Class', Class[0], Class[1])\n",
    "\n",
    "filtro = y_train == Class[0]"
   ]
  },
  {
   "cell_type": "markdown",
   "metadata": {},
   "source": [
    "#### Plot das Envoltorias"
   ]
  },
  {
   "cell_type": "code",
   "execution_count": null,
   "metadata": {},
   "outputs": [],
   "source": [
    "fig, ax = plt.subplots()\n",
    "dotList, envoltorias = plotEnvoltorias(X_train, ax, filtro, Class, withNoise=False)\n",
    "plt.show()"
   ]
  },
  {
   "cell_type": "markdown",
   "metadata": {},
   "source": [
    "#### Analise de Separabilidade"
   ]
  },
  {
   "cell_type": "code",
   "execution_count": null,
   "metadata": {},
   "outputs": [],
   "source": [
    "# Verifica se tem Interseção\n",
    "endPointList, segmentsList = preProcessConvexHull(envoltorias[0], envoltorias[1])\n",
    "hasIntersection = sweepLineIntersection(endPointList, segmentsList)\n",
    "\n",
    "print(f'As envoltórias tem interssão: {hasIntersection}')"
   ]
  },
  {
   "cell_type": "markdown",
   "metadata": {},
   "source": [
    "### Iris"
   ]
  },
  {
   "cell_type": "markdown",
   "metadata": {},
   "source": [
    "#### Carrega o bando de dados e Separa em treino e teste"
   ]
  },
  {
   "cell_type": "code",
   "execution_count": null,
   "metadata": {},
   "outputs": [],
   "source": [
    "iris = pd.read_csv('./data/iris.csv', delimiter=',')\n",
    "Class = ['Iris-setosa', 'Iris-versicolor']\n",
    "\n",
    "iris = iris[['SepalLength', 'SepalWidth', 'Class']]\n",
    "\n",
    "X_train, X_test, y_train, y_test = test_train(iris, 'Class', Class[0], Class[1])\n",
    "\n",
    "filtro = y_train == Class[0]"
   ]
  },
  {
   "cell_type": "markdown",
   "metadata": {},
   "source": [
    "#### Plot das envoltorias"
   ]
  },
  {
   "cell_type": "code",
   "execution_count": null,
   "metadata": {},
   "outputs": [],
   "source": [
    "fig, ax = plt.subplots()\n",
    "dotList, envoltorias = plotEnvoltorias(X_train, ax, filtro, Class, withNoise=False)\n",
    "plt.show()"
   ]
  },
  {
   "cell_type": "markdown",
   "metadata": {},
   "source": [
    "#### Analise de separabilidade"
   ]
  },
  {
   "cell_type": "code",
   "execution_count": null,
   "metadata": {},
   "outputs": [],
   "source": [
    "# Verifica se tem Interseção\n",
    "endPointList, segmentsList = preProcessConvexHull(envoltorias[0], envoltorias[1])\n",
    "hasIntersection = sweepLineIntersection(endPointList, segmentsList)\n",
    "\n",
    "print(f'As envoltórias tem interssão: {hasIntersection}')\n"
   ]
  },
  {
   "cell_type": "markdown",
   "metadata": {},
   "source": [
    "#### Classificação do Modelo"
   ]
  },
  {
   "cell_type": "code",
   "execution_count": null,
   "metadata": {},
   "outputs": [],
   "source": [
    "fig, ax = plt.subplots()\n",
    "model, firstConvexHullIsLeft = plotModel(X_train, ax, filtro, Class, withNoise=False)\n",
    "\n",
    "left = Class[0] if firstConvexHullIsLeft else Class[1]\n",
    "right = Class[1] if firstConvexHullIsLeft else Class[0]\n",
    "\n",
    "plt.show()"
   ]
  },
  {
   "cell_type": "markdown",
   "metadata": {},
   "source": [
    "#### Analise das metricas"
   ]
  },
  {
   "cell_type": "code",
   "execution_count": null,
   "metadata": {},
   "outputs": [],
   "source": [
    "# Classificao Gerada Pelo Nosso Modelo\n",
    "y_pred = classificacao(X_test, compareCol1=1, compareCol2=2, model=model, whoIsLeft=left, whoIsRight=right)\n",
    "\n",
    "f1 = f1_score(y_test.values, y_pred, pos_label=Class[0])\n",
    "accuracy = accuracy_score(y_test.values, y_pred) \n",
    "recall = recall_score(y_test.values, y_pred, pos_label=Class[0])\n",
    "precision = precision_score(y_test.values, y_pred, pos_label=Class[0])\n",
    "\n",
    "print(f'''\\t Anilise das metricas\n",
    "f1 score: {f1}\n",
    "precision score: {precision} \n",
    "recall score: {recall}\n",
    "accuracy_score: {accuracy}''')"
   ]
  },
  {
   "cell_type": "markdown",
   "metadata": {},
   "source": [
    "### wine quality"
   ]
  },
  {
   "cell_type": "markdown",
   "metadata": {},
   "source": [
    "#### Carrega o banco de dados"
   ]
  },
  {
   "cell_type": "code",
   "execution_count": null,
   "metadata": {},
   "outputs": [],
   "source": [
    "wine = pd.read_csv('data/winequality-white.csv', delimiter=',')\n",
    "\n",
    "wine = wine[['CitricAcid', 'Alcohol', 'Quality']]\n",
    "\n",
    "Class = [4, 8]\n",
    "\n",
    "X_train, X_test, y_train, y_test = test_train(wine, 'Quality', Class[0], Class[1])\n",
    "\n",
    "filtro = y_train == Class[0]"
   ]
  },
  {
   "cell_type": "markdown",
   "metadata": {},
   "source": [
    "#### Plot das Envoltorias"
   ]
  },
  {
   "cell_type": "code",
   "execution_count": null,
   "metadata": {},
   "outputs": [],
   "source": [
    "fig, ax = plt.subplots()\n",
    "dotList, envoltorias = plotEnvoltorias(X_train, ax, filtro, Class, withNoise=True)\n",
    "plt.show()"
   ]
  },
  {
   "cell_type": "markdown",
   "metadata": {},
   "source": [
    "#### Analise de Separabilidade"
   ]
  },
  {
   "cell_type": "code",
   "execution_count": null,
   "metadata": {},
   "outputs": [],
   "source": [
    "# Verifica se tem Interseção\n",
    "endPointList, segmentsList = preProcessConvexHull(envoltorias[0], envoltorias[1])\n",
    "hasIntersection = sweepLineIntersection(endPointList, segmentsList)\n",
    "\n",
    "print(f'As envoltórias tem interssão: {hasIntersection}')"
   ]
  },
  {
   "cell_type": "markdown",
   "metadata": {},
   "source": [
    "### Thyroid"
   ]
  },
  {
   "cell_type": "markdown",
   "metadata": {},
   "source": [
    "#### Carrega o bando de dados e Separa em treino e teste"
   ]
  },
  {
   "cell_type": "code",
   "execution_count": null,
   "metadata": {},
   "outputs": [],
   "source": [
    "thyroid = pd.read_csv('./data/thyroid.csv', delimiter=',')\n",
    "thyroid = thyroid[['TSH', 'FTI', 'Class']]\n",
    "\n",
    "Class = [1, 2]\n",
    "\n",
    "X_train, X_test, y_train, y_test = test_train(thyroid, 'Class', Class[0], Class[1])\n",
    "\n",
    "filtro = y_train == Class[0]"
   ]
  },
  {
   "cell_type": "markdown",
   "metadata": {},
   "source": [
    "#### Plot das envoltorias"
   ]
  },
  {
   "cell_type": "code",
   "execution_count": null,
   "metadata": {},
   "outputs": [],
   "source": [
    "fig, ax = plt.subplots()\n",
    "dotList, envoltorias = plotEnvoltorias(X_train, ax, filtro, Class, withNoise=False)\n",
    "plt.show()"
   ]
  },
  {
   "cell_type": "markdown",
   "metadata": {},
   "source": [
    "#### Analise de separabilidade"
   ]
  },
  {
   "cell_type": "code",
   "execution_count": null,
   "metadata": {},
   "outputs": [],
   "source": [
    "# Verifica se tem Interseção\n",
    "endPointList, segmentsList = preProcessConvexHull(envoltorias[0], envoltorias[1])\n",
    "hasIntersection = sweepLineIntersection(endPointList, segmentsList)\n",
    "\n",
    "print(f'As envoltórias tem interssão: {hasIntersection}')\n"
   ]
  },
  {
   "cell_type": "markdown",
   "metadata": {},
   "source": [
    "#### Classificação do Modelo"
   ]
  },
  {
   "cell_type": "code",
   "execution_count": null,
   "metadata": {},
   "outputs": [],
   "source": [
    "fig, ax = plt.subplots()\n",
    "model, firstConvexHullIsLeft = plotModel(X_train, ax, filtro, Class, withNoise=False)\n",
    "\n",
    "left = Class[0] if firstConvexHullIsLeft else Class[1]\n",
    "right = Class[1] if firstConvexHullIsLeft else Class[0]\n",
    "\n",
    "plt.show()"
   ]
  },
  {
   "cell_type": "markdown",
   "metadata": {},
   "source": [
    "#### Analise das metricas"
   ]
  },
  {
   "cell_type": "code",
   "execution_count": null,
   "metadata": {},
   "outputs": [],
   "source": [
    "# Classificao Gerada Pelo Nosso Modelo\n",
    "y_pred = classificacao(X_test, model=model, whoIsLeft=left, whoIsRight=right)\n",
    "\n",
    "f1 = f1_score(y_test.values, y_pred, pos_label=Class[0])\n",
    "accuracy = accuracy_score(y_test.values, y_pred) \n",
    "recall = recall_score(y_test.values, y_pred, pos_label=Class[0])\n",
    "precision = precision_score(y_test.values, y_pred, pos_label=Class[0])\n",
    "\n",
    "print(f'''\\t Anilise das metricas\n",
    "f1 score: {f1}\n",
    "precision score: {precision} \n",
    "recall score: {recall}\n",
    "accuracy_score: {accuracy}''')"
   ]
  },
  {
   "cell_type": "markdown",
   "metadata": {},
   "source": [
    "### Phoneme\n"
   ]
  },
  {
   "cell_type": "markdown",
   "metadata": {},
   "source": [
    "#### Carrega o banco de dados"
   ]
  },
  {
   "cell_type": "code",
   "execution_count": null,
   "metadata": {},
   "outputs": [],
   "source": [
    "phoneme = pd.read_csv('data/phoneme.csv', delimiter=',')\n",
    "phoneme = phoneme[['Ao', 'Dcl', 'Class']]\n",
    "\n",
    "\n",
    "Class = [0, 1]\n",
    "\n",
    "X_train, X_test, y_train, y_test = test_train(phoneme, 'Class', Class[0], Class[1])\n",
    "\n",
    "filtro = y_train == Class[0]"
   ]
  },
  {
   "cell_type": "markdown",
   "metadata": {},
   "source": [
    "#### Plot das Envoltorias"
   ]
  },
  {
   "cell_type": "code",
   "execution_count": null,
   "metadata": {},
   "outputs": [],
   "source": [
    "fig, ax = plt.subplots()\n",
    "dotList, envoltorias = plotEnvoltorias(X_train, ax, filtro, Class, withNoise=True)\n",
    "plt.show()"
   ]
  },
  {
   "cell_type": "markdown",
   "metadata": {},
   "source": [
    "#### Analise de Separabilidade"
   ]
  },
  {
   "cell_type": "code",
   "execution_count": null,
   "metadata": {},
   "outputs": [],
   "source": [
    "# Verifica se tem Interseção\n",
    "endPointList, segmentsList = preProcessConvexHull(envoltorias[0], envoltorias[1])\n",
    "hasIntersection = sweepLineIntersection(endPointList, segmentsList)\n",
    "\n",
    "print(f'As envoltórias tem interssão: {\"Sim\" if hasIntersection else \"Não\"}')"
   ]
  },
  {
   "cell_type": "markdown",
   "metadata": {},
   "source": [
    "### Breast Cancer Wisconsin"
   ]
  },
  {
   "cell_type": "code",
   "execution_count": null,
   "metadata": {},
   "outputs": [],
   "source": [
    "cancer = pd.read_csv('./data/wdbc.csv', delimiter=',')\n",
    "\n",
    "aType = cancer[cancer['Class'] == 'M']\n",
    "bType = cancer[cancer['Class'] == 'B']\n",
    "\n",
    "col = (aType.shape)[1]\n",
    "\n",
    "# for i in range(col):\n",
    "#     for j in range(col):\n",
    "\n",
    "#         fig, ax = plt.subplots()\n",
    "#         plotClass(aType, ax, dotType='rx', envType='r-', compareCol1=i, compareCol2=j)\n",
    "#         plotClass(bType, ax, dotType='g.', envType='g-', compareCol1=i, compareCol2=j)\n",
    "\n",
    "#         plt.show()"
   ]
  },
  {
   "cell_type": "markdown",
   "metadata": {},
   "source": [
    "### Ionosphere"
   ]
  },
  {
   "cell_type": "code",
   "execution_count": null,
   "metadata": {},
   "outputs": [],
   "source": [
    "ionosphere = pd.read_csv('./data/ionosphere.csv', delimiter=',')\n",
    "\n",
    "aType = ionosphere[ionosphere['Class'] == 'b']\n",
    "bType = ionosphere[ionosphere['Class'] == 'g']\n",
    "\n",
    "\n",
    "# fig, ax = plt.subplots()\n",
    "# a = 24\n",
    "# b = 15\n",
    "\n",
    "# plotClass(aType, ax, dotType='rx', envType='r-', compareCol1=a, compareCol2=b)\n",
    "# plotClass(bType, ax, dotType='g.', envType='g-', compareCol1=a, compareCol2=b)\n",
    "\n",
    "# plt.show()\n",
    "\n",
    "aType[['Pulse24', 'Pulse27']]"
   ]
  },
  {
   "cell_type": "markdown",
   "metadata": {},
   "source": [
    "### Coil2000"
   ]
  },
  {
   "cell_type": "code",
   "execution_count": null,
   "metadata": {},
   "outputs": [],
   "source": [
    "coil2000 = pd.read_csv('./data/coil2000.csv', delimiter=',')\n",
    "\n",
    "aType = coil2000[coil2000['CARAVAN'] == 0]\n",
    "bType = coil2000[coil2000['CARAVAN'] == 1]\n",
    "\n",
    "\n",
    "fig, ax = plt.subplots()\n",
    "\n",
    "# col = (aType.shape)[1]\n",
    "\n",
    "# for i in range(col):\n",
    "#     for j in range(col):\n",
    "\n",
    "#         fig, ax = plt.subplots()\n",
    "#         plotClass(aType, ax, dotType='rx', envType='r-', compareCol1=i, compareCol2=j)\n",
    "#         plotClass(bType, ax, dotType='g.', envType='g-', compareCol1=i, compareCol2=j)\n",
    "#         plt.show()\n"
   ]
  },
  {
   "cell_type": "markdown",
   "metadata": {},
   "source": [
    "### movement_libras"
   ]
  },
  {
   "cell_type": "code",
   "execution_count": null,
   "metadata": {},
   "outputs": [],
   "source": [
    "movement_libras = pd.read_csv('./data/movement_libras.csv', delimiter=',')\n",
    "\n",
    "aType = movement_libras[movement_libras['Class'] == 1]\n",
    "bType = movement_libras[movement_libras['Class'] == 12]\n",
    "\n",
    "# fig, ax = plt.subplots()\n",
    "\n",
    "# col = (aType.shape)[1]\n",
    "# col = (bType.shape)[1]\n",
    "\n",
    "# for i in range(col):\n",
    "#     for j in range(col2):\n",
    "\n",
    "#         fig, ax = plt.subplots()\n",
    "#         plotClass(aType, ax, dotType='rx', envType='r-', compareCol1=i, compareCol2=j)\n",
    "#         plotClass(bType, ax, dotType='g.', envType='g-', compareCol1=i, compareCol2=j)\n",
    "#         print(i, j)\n",
    "#         plt.show()"
   ]
  }
 ],
 "metadata": {
  "kernelspec": {
   "display_name": "Python 3.10.4 64-bit",
   "language": "python",
   "name": "python3"
  },
  "language_info": {
   "codemirror_mode": {
    "name": "ipython",
    "version": 3
   },
   "file_extension": ".py",
   "mimetype": "text/x-python",
   "name": "python",
   "nbconvert_exporter": "python",
   "pygments_lexer": "ipython3",
   "version": "3.10.4"
  },
  "orig_nbformat": 4,
  "vscode": {
   "interpreter": {
    "hash": "916dbcbb3f70747c44a77c7bcd40155683ae19c65e1c03b4aa3499c5328201f1"
   }
  }
 },
 "nbformat": 4,
 "nbformat_minor": 2
}

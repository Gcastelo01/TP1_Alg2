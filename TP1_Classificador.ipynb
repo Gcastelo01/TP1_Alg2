{
 "cells": [
  {
   "cell_type": "markdown",
   "metadata": {},
   "source": [
    "# Trabalho Prático 1\n",
    "## Grupo:\n",
    "* Gabriel Alves Reis, \n",
    "* Gabriel Castelo Branco Rocha Alencar Pinto, 2020006523\n",
    "* Samuel Brísio, \n"
   ]
  },
  {
   "cell_type": "code",
   "execution_count": null,
   "metadata": {},
   "outputs": [],
   "source": [
    "# %pip install pandas\n",
    "# %pip install matplotlib"
   ]
  },
  {
   "cell_type": "markdown",
   "metadata": {},
   "source": []
  },
  {
   "cell_type": "markdown",
   "metadata": {},
   "source": [
    "1- Envoltória Convexa (Gift Wrapping ??)\n",
    "- Implementar primitiva de posição relativa de semiretas\n",
    "- Sorted (default do python) com nossa primitiva\n",
    "- Algoritmo da Envoltória (Gift Wrapping)\n",
    "    - (conj. de pontos) -> (conj. de pontos)\n",
    "- função para visualizar a envoltória"
   ]
  },
  {
   "cell_type": "code",
   "execution_count": null,
   "metadata": {},
   "outputs": [],
   "source": [
    "# imports"
   ]
  },
  {
   "cell_type": "code",
   "execution_count": null,
   "metadata": {},
   "outputs": [],
   "source": [
    "class Dot:\n",
    "    def __init__(self, x, y):\n",
    "        self.x = x\n",
    "        self.y = y\n",
    "\n",
    "    def __lt__(self, b):\n",
    "        A = (self.x)*(b.y)\n",
    "        B = (self.y)*(b.x)\n",
    "        return (A - B) > 0\n",
    "    \n",
    "    def __sub__(self, b):\n",
    "        return Dot(self.x - b.x, self.y - b.y)\n",
    "    \n",
    "    def __add__(self, b):\n",
    "        return Dot(self.x + b.x, self.y + b.y)\n",
    "\n",
    "    def __repr__(self):\n",
    "        return f'({self.x}, {self.y})'\n",
    "    \n",
    "    def __eq__(self, other):\n",
    "        if(self.x == other.x and self.y == other.x):\n",
    "            return True\n",
    "        return False"
   ]
  },
  {
   "cell_type": "code",
   "execution_count": null,
   "metadata": {},
   "outputs": [],
   "source": [
    "class Endpoint:\n",
    "    def __init__(self, dot:Dot, segmentIndx,  endpointType):\n",
    "        # endpoit type = 'left' | 'right'\n",
    "        self.dot = dot\n",
    "        self.segmentIndx = segmentIndx\n",
    "        self.endpointType = endpointType\n",
    "    \n",
    "    def __repr__(self):\n",
    "        return f'({self.dot}, {self.segmentIndx}, {self.endpointType})'\n",
    "\n",
    "    def __lt__(self, b):\n",
    "        if self.dot.x == b.dot.x:\n",
    "            if self.endpointType == b.endpointType:\n",
    "                return self.dot.y < b.dot.y\n",
    "            else:\n",
    "                return True if self.endpointType == 'left' else False\n",
    "        else: \n",
    "            return self.dot.x < b.dot.x\n",
    "\n",
    "    def __eq__(self, other):\n",
    "        if(self.dot == other.dot and self.segmentIndx == other.segmentIndx and self.endpointType == other.endpointType):\n",
    "            return True\n",
    "        return False"
   ]
  },
  {
   "cell_type": "code",
   "execution_count": null,
   "metadata": {},
   "outputs": [],
   "source": [
    "# Define a classe Seguimento\n",
    "# O segmento terá um ponto a esquerda, a direita e um rotulo informando a qual poligono pertence\n",
    "\n",
    "class Segment:\n",
    "    def __init__(self, left:Dot, right:Dot, label):\n",
    "        self.left = left\n",
    "        self.right = right\n",
    "        self.label = label\n",
    "\n",
    "    def __repr__(self):\n",
    "        return f'( {self.left} -> {self.right}, {self.label} )'\n",
    "\n",
    "    def __eq__(self, other):\n",
    "        if(self.left == other.left and self.right == other.right and self.label == other.label):\n",
    "            return True\n",
    "        return False"
   ]
  },
  {
   "cell_type": "code",
   "execution_count": null,
   "metadata": {},
   "outputs": [],
   "source": [
    "def sortDotsByPolarAngle(dotsParam):\n",
    "    dots = dotsParam.copy()\n",
    "    anchor = dots[0]\n",
    "    indx = 0\n",
    "    anchor_indx = indx\n",
    "    # find anchor\n",
    "    for p in dots:\n",
    "        if p.y < anchor.y :\n",
    "            anchor = p\n",
    "            anchor_indx = indx\n",
    "        elif (p.y == anchor.y and p.x < anchor.x) :\n",
    "            anchor = p  \n",
    "            anchor_indx = indx\n",
    "        indx += 1\n",
    "\n",
    "    # normalize dots\n",
    "    norm_dots = []\n",
    "    dots.pop(anchor_indx)\n",
    "    for dot in dots:\n",
    "        norm_dots.append(dot - anchor)\n",
    "    \n",
    "    norm_dots.sort()\n",
    "\n",
    "    sorted_dots = [anchor]\n",
    "    for dot in norm_dots:\n",
    "        sorted_dots.append(dot + anchor)\n",
    "\n",
    "    return sorted_dots"
   ]
  },
  {
   "cell_type": "code",
   "execution_count": null,
   "metadata": {},
   "outputs": [],
   "source": [
    "import random\n",
    "def noise(x):\n",
    "    return x + random.random() / 100"
   ]
  },
  {
   "cell_type": "code",
   "execution_count": null,
   "metadata": {},
   "outputs": [],
   "source": [
    "import matplotlib.pyplot as plt\n",
    "from random import randint \n",
    "import random\n",
    "\n",
    "dot_list = []\n",
    "\n",
    "random.seed(16)\n",
    "for i in range(30):\n",
    "    x = randint(0,200)\n",
    "    y = noise(randint(0,200))\n",
    "    a = Dot(x, y)\n",
    "    dot_list.append(a)\n",
    "\n",
    "x = []\n",
    "y = []\n",
    "\n",
    "for e in sortDotsByPolarAngle(dot_list):\n",
    "    x.append(e.x)\n",
    "    y.append(e.y)\n",
    "\n",
    "fig, ax = plt.subplots()\n",
    "ax.plot(x, y, 'r*')\n",
    "\n",
    "for i, txt in enumerate(range(len(x))):\n",
    "    ax.annotate(txt, (x[i], y[i]))\n",
    "plt.ylabel('some numbers')\n",
    "plt.show()\n"
   ]
  },
  {
   "cell_type": "markdown",
   "metadata": {},
   "source": [
    "# Envoltória"
   ]
  },
  {
   "cell_type": "code",
   "execution_count": null,
   "metadata": {},
   "outputs": [],
   "source": [
    "def isLeftTurn(a, b, c):\n",
    "    B = b - a\n",
    "    C = c - a\n",
    "\n",
    "    term1 = (B.x)*(C.y)\n",
    "    term2 = (B.y)*(C.x)\n",
    "    return (term1 - term2) > 0"
   ]
  },
  {
   "cell_type": "code",
   "execution_count": null,
   "metadata": {},
   "outputs": [],
   "source": [
    "def Graham(DotListParam):\n",
    "    DotList = DotListParam.copy()\n",
    "    stack = []\n",
    "    stack.append(DotList[0])\n",
    "    stack.append(DotList[1])\n",
    "    stack.append(DotList[2])\n",
    "\n",
    "    for i in range(3, len(DotList), 1):\n",
    "        laster = len(stack) - 1\n",
    "\n",
    "        while not isLeftTurn(stack[-2], stack[-1], DotList[i]):\n",
    "            stack.pop()\n",
    "            laster -= 1\n",
    "        stack.append(DotList[i])\n",
    "\n",
    "    return stack"
   ]
  },
  {
   "cell_type": "code",
   "execution_count": null,
   "metadata": {},
   "outputs": [],
   "source": [
    "fig, ax = plt.subplots()\n",
    "ax.plot(x, y, 'r*')\n",
    "\n",
    "for i, txt in enumerate(range(len(x))):\n",
    "    ax.annotate(txt, (x[i], y[i]))\n",
    "plt.ylabel('some numbers')\n",
    "\n",
    "x_envolt = []\n",
    "y_envolt = []\n",
    "\n",
    "sorted_list = sortDotsByPolarAngle(dot_list)\n",
    "\n",
    "convexEnvelope = Graham(sorted_list)\n",
    "for e in convexEnvelope:\n",
    "    x_envolt.append(e.x)\n",
    "    y_envolt.append(e.y)\n",
    "\n",
    "\n",
    "ax.plot(x_envolt, y_envolt, 'b-')\n",
    "ax.plot([x_envolt[len(x_envolt) - 1], x_envolt[0]], [y_envolt[len(y_envolt) - 1], y_envolt[0]], 'g-')\n",
    "plt.show()"
   ]
  },
  {
   "cell_type": "markdown",
   "metadata": {},
   "source": [
    "# Varredura"
   ]
  },
  {
   "cell_type": "markdown",
   "metadata": {},
   "source": []
  },
  {
   "cell_type": "code",
   "execution_count": null,
   "metadata": {},
   "outputs": [],
   "source": [
    "# Verifica se o ponto p3 está na semireta p1p2. \n",
    "# p1, p2 e p3 são colineares\n",
    "def on_segment(p1:Dot, p2:Dot, p3:Dot):\n",
    "    p1HasLessX = p1.x < p2.x \n",
    "    if p1HasLessX and p1.x <= p3.x and p2.x >= p3.x:\n",
    "        return True\n",
    "    if p2.x <= p3.x and p1.x >= p3.x:\n",
    "        return True\n",
    "    return False"
   ]
  },
  {
   "cell_type": "code",
   "execution_count": null,
   "metadata": {},
   "outputs": [],
   "source": [
    "def direction(a, b, c):\n",
    "    # return 1 if turn left\n",
    "    # return -1 if turn right\n",
    "    # return 0 if is co-linear\n",
    "    \n",
    "    B = b - a\n",
    "    C = c - a\n",
    "\n",
    "    term1 = (B.x)*(C.y)\n",
    "    term2 = (B.y)*(C.x)\n",
    "    return (term1 - term2) "
   ]
  },
  {
   "cell_type": "code",
   "execution_count": null,
   "metadata": {},
   "outputs": [],
   "source": [
    "def aux_segments_intersect(p1, p2, p3, p4):\n",
    "    d1 = direction(p3, p4, p1)\n",
    "    d2 = direction(p3, p4, p2)\n",
    "    d3 = direction(p1, p2, p3)\n",
    "    d4 = direction(p1, p2, p4)\n",
    "\n",
    "    if ((d1 > 0 and d2 < 0) or (d1 < 0 and d2 > 0)) and ((d3 > 0 and d4 < 0) or  (d3 < 0 and d4 > 0)):\n",
    "        return True\n",
    "    if d1 == 0 and on_segment(p3, p4, p1):\n",
    "        return True\n",
    "    if d2 == 0 and on_segment(p3, p4, p2):\n",
    "        return True\n",
    "    if d3 == 0 and on_segment(p1, p2, p3):\n",
    "        return True\n",
    "    if d4 == 0 and on_segment(p1, p2, p4):\n",
    "        return True\n",
    "        \n",
    "    return False"
   ]
  },
  {
   "cell_type": "code",
   "execution_count": null,
   "metadata": {},
   "outputs": [],
   "source": [
    "def segments_intersect(s1:Segment, s2:Segment):\n",
    "    return aux_segments_intersect(s1.left, s1.right, s2.left, s2.right)"
   ]
  },
  {
   "cell_type": "code",
   "execution_count": null,
   "metadata": {},
   "outputs": [],
   "source": [
    "def isAbove(avl, key):\n",
    "    if avl.__contains__(key):\n",
    "        try:\n",
    "            segment = avl.succ_item(key)[1] \n",
    "            return (True, segment)\n",
    "        except:\n",
    "            return False, 'error'\n",
    "    else:\n",
    "        try:\n",
    "            segment = avl.ceiling_item(key)[1]\n",
    "            return (True, segment)\n",
    "        except:\n",
    "            return False, 'error'"
   ]
  },
  {
   "cell_type": "code",
   "execution_count": null,
   "metadata": {},
   "outputs": [],
   "source": [
    "def isBelow(avl, key):\n",
    "    if avl.__contains__(key):\n",
    "        try:\n",
    "            segment = avl.prev_item(key)[1] \n",
    "            return (True, segment)\n",
    "        except:\n",
    "            return False, 'error'\n",
    "    else:\n",
    "        try:\n",
    "            segment = avl.floor_item(key)[1]\n",
    "            return (True, segment)\n",
    "        except:\n",
    "            return False, 'error'\n",
    "    "
   ]
  },
  {
   "cell_type": "code",
   "execution_count": null,
   "metadata": {},
   "outputs": [],
   "source": [
    "import bintrees\n",
    "\n",
    "def sweepLineIntersection(endpoitsList, segmentsList):\n",
    "    avl = [bintrees.AVLTree(), bintrees.AVLTree()]\n",
    "\n",
    "    for p in endpoitsList:\n",
    "\n",
    "        s = segmentsList[p.segmentIndx]\n",
    "\n",
    "        # print(20 * '-')\n",
    "        # print(avl[0])\n",
    "        # print(avl[1])\n",
    "        # print(s, '\\t', p.segmentIndx)\n",
    "\n",
    "        # Insere o segmento na arvore\n",
    "        if p.endpointType == 'left':\n",
    "\n",
    "            # Insere o segmento na arvore\n",
    "            if avl[s.label].__contains__(s.left.y):\n",
    "                itemList = avl[s.label].get(s.left.y)\n",
    "                itemList.append(s)\n",
    "                avl[s.label].insert(s.left.y, itemList)\n",
    "            else:\n",
    "                avl[s.label].insert(s.left.y, [s])\n",
    "\n",
    "            aboveExist, otherSegments = isAbove(avl[s.label - 1], s.left.y)\n",
    "            if (aboveExist):\n",
    "                for other in otherSegments:\n",
    "                    hasIntersection = segments_intersect(s, other)\n",
    "                    # print(\"above has Intersect: \", hasIntersection)\n",
    "                    if (hasIntersection):\n",
    "                        return True\n",
    "            \n",
    "            belowExist, otherSegments = isBelow(avl[s.label - 1], s.left.y)\n",
    "            if (belowExist):\n",
    "                for other in otherSegments:\n",
    "                    hasIntersection = segments_intersect(s, other)\n",
    "                    # print(\"below has Intersect: \", hasIntersection)\n",
    "                    if (hasIntersection):\n",
    "                        return True\n",
    "            \n",
    "            # print(\"isAbove: \", aboveExist, \"\\t isBelow: \", belowExist)\n",
    "            # print()\n",
    "\n",
    "        \n",
    "        else:\n",
    "            aboveExistOther, aboveSegmentsOther = isAbove(avl[s.label - 1], s.right.y)\n",
    "            belowExistOther, belowSegmentsOther = isBelow(avl[s.label - 1], s.right.y)\n",
    "\n",
    "            aboveExist, aboveSegments = isAbove(avl[s.label], s.right.y)\n",
    "            belowExist, belowSegments = isBelow(avl[s.label], s.right.y)\n",
    "\n",
    "            # print(\"aboveExist: \", aboveExist)\n",
    "            # print(\"belowExist: \", aboveExist)\n",
    "            # print(\"aboveExistOther: \", aboveExistOther)\n",
    "            # print(\"belowExistOther: \", belowExistOther)\n",
    "\n",
    "\n",
    "            if (aboveExist and belowExistOther):\n",
    "                for aboveSegment in aboveSegments:\n",
    "                    for belowSegment in belowSegmentsOther:\n",
    "                        hasIntersection = segments_intersect(aboveSegment, belowSegment)    \n",
    "                        if(hasIntersection):\n",
    "                            return True\n",
    "\n",
    "\n",
    "            if (aboveExistOther and belowExist):\n",
    "                for aboveSegment in aboveSegmentsOther:\n",
    "                    for belowSegment in belowSegments:\n",
    "                        hasIntersection = segments_intersect(aboveSegment, belowSegment)    \n",
    "                        if(hasIntersection):\n",
    "                            return True\n",
    "\n",
    "            \n",
    "            # remoção do segmento\n",
    "            itemList = avl[s.label].get(s.left.y)\n",
    "            if len(itemList) > 1:\n",
    "                 for i in range(len(itemList) - 1):\n",
    "                    if(itemList[i] != s):\n",
    "                        continue\n",
    "                    itemList.pop(i)\n",
    "\n",
    "            else:\n",
    "                avl[s.label].pop(s.left.y, False)\n",
    "\n",
    "    return False\n",
    "\n"
   ]
  },
  {
   "cell_type": "markdown",
   "metadata": {},
   "source": [
    "# Teste"
   ]
  },
  {
   "cell_type": "markdown",
   "metadata": {},
   "source": [
    "Envoltoria 1"
   ]
  },
  {
   "cell_type": "code",
   "execution_count": null,
   "metadata": {},
   "outputs": [],
   "source": [
    "def EnvoltoriaAleatoria(seed=12, numDots=20, x_inicial=0, x_final=100, y_inicial=0, y_final=100):\n",
    "    dot_list = []\n",
    "\n",
    "    random.seed(seed)\n",
    "    for i in range(numDots):\n",
    "        x = randint(x_inicial, x_final)\n",
    "        y = noise(randint(y_inicial,y_final))\n",
    "        a = Dot(x, y)\n",
    "        dot_list.append(a)\n",
    "\n",
    "    sorted_list = sortDotsByPolarAngle(dot_list)\n",
    "\n",
    "    return  (dot_list, Graham(sorted_list))\n",
    "\n",
    "def plotEnvoltoria(ax, pontos, envoltoria, dotType='r*', envType='b-'):\n",
    "    \n",
    "    for i in range(len(pontos)):\n",
    "        ax.plot(pontos[i].x, pontos[i].y, dotType)\n",
    "    \n",
    "    lista_Envoltoria = [[], []]\n",
    "\n",
    "    for e in envoltoria:\n",
    "        lista_Envoltoria[0].append(e.x)\n",
    "        lista_Envoltoria[1].append(e.y)\n",
    "    \n",
    "    ax.plot(lista_Envoltoria[0], lista_Envoltoria[1], envType)\n",
    "    ax.plot([lista_Envoltoria[0][len(lista_Envoltoria[0]) - 1], lista_Envoltoria[0][0]], [lista_Envoltoria[1][len(lista_Envoltoria[1]) - 1], lista_Envoltoria[1][0]], envType)\n",
    " "
   ]
  },
  {
   "cell_type": "code",
   "execution_count": null,
   "metadata": {},
   "outputs": [],
   "source": [
    "def preProcessConvexHull(EnvoltoriaA, EnvoltoriaB):\n",
    "    \n",
    "    endpoitsList:Endpoint = []\n",
    "    segmentsList:Segment = []\n",
    "\n",
    "    for i in range(len(EnvoltoriaA) - 1):\n",
    "        dotA = EnvoltoriaA[i]\n",
    "        dotB = EnvoltoriaA[i + 1]\n",
    "\n",
    "        left = dotA if dotA.x < dotB.x else dotB\n",
    "        right = dotA if dotA.x >= dotB.x else dotB\n",
    "\n",
    "        endpoitsList.append(Endpoint(left, segmentIndx=i, endpointType='left'))\n",
    "        endpoitsList.append(Endpoint(right, segmentIndx=i, endpointType='right'))\n",
    "\n",
    "        segmentsList.append(Segment(left, right, 0))\n",
    "\n",
    "    pn = EnvoltoriaA[-1]\n",
    "    p0 = EnvoltoriaA[0]\n",
    "\n",
    "    \n",
    "    left = pn if pn.x < p0.x else p0\n",
    "    right = pn if pn.x >= p0.x else p0\n",
    "\n",
    "    segmentMax = len(segmentsList)\n",
    "\n",
    "    endpoitsList.append(Endpoint(left, segmentIndx=segmentMax, endpointType='left'))\n",
    "    endpoitsList.append(Endpoint(right, segmentIndx=segmentMax, endpointType='right'))\n",
    "    segmentsList.append(Segment(left, right, 0))\n",
    "\n",
    "\n",
    "    for j in range(len(EnvoltoriaA), len(EnvoltoriaA) + len(EnvoltoriaB) - 1):\n",
    "        i = j - len(EnvoltoriaA)\n",
    "        dotA = EnvoltoriaB[i]\n",
    "        dotB = EnvoltoriaB[i + 1]\n",
    "\n",
    "        left = dotA if dotA.x < dotB.x else dotB\n",
    "        right = dotA if dotA.x >= dotB.x else dotB\n",
    "\n",
    "        endpoitsList.append(Endpoint(left, segmentIndx=j, endpointType='left'))\n",
    "        endpoitsList.append(Endpoint(right, segmentIndx=j, endpointType='right'))\n",
    "\n",
    "        segmentsList.append(Segment(left, right, 1))\n",
    "    \n",
    "\n",
    "    pn = EnvoltoriaB[-1]\n",
    "    p0 = EnvoltoriaB[0]\n",
    "    left = pn if pn.x < p0.x else p0\n",
    "    right = pn if pn.x >= p0.x else p0\n",
    "\n",
    "    segmentMax = len(segmentsList)\n",
    "\n",
    "    endpoitsList.append(Endpoint(left, segmentIndx=segmentMax, endpointType='left'))\n",
    "    endpoitsList.append(Endpoint(right, segmentIndx=segmentMax, endpointType='right'))\n",
    "    segmentsList.append(Segment(left, right, 1))\n",
    "\n",
    "    endpoitsList.sort()\n",
    "    \n",
    "    return (endpoitsList, segmentsList)\n"
   ]
  },
  {
   "cell_type": "code",
   "execution_count": null,
   "metadata": {},
   "outputs": [],
   "source": [
    "def testTo(n:int):\n",
    "    nPoints = 6\n",
    "    fig, ax = plt.subplots(n)\n",
    "    fig.set_figheight(2*n)\n",
    "    plt.subplots_adjust(hspace=0.5)\n",
    "\n",
    "    for i in range(n):\n",
    "        (pontosA, EnvoltoriaA) = EnvoltoriaAleatoria(i+1, numDots=nPoints)\n",
    "        (pontosB, EnvoltoriaB) = EnvoltoriaAleatoria(i+3, nPoints, 30, 200, 50, 200)\n",
    "\n",
    "        plotEnvoltoria(ax[i], pontosA, EnvoltoriaA)\n",
    "        plotEnvoltoria(ax[i], pontosB, EnvoltoriaB, dotType='go', envType='y-')\n",
    "\n",
    "        endPointList, segmentsList = preProcessConvexHull(EnvoltoriaA= EnvoltoriaA, EnvoltoriaB= EnvoltoriaB)\n",
    "\n",
    "        isIntercect = (sweepLineIntersection(endPointList, segmentsList))\n",
    "        ax[i].set_title(isIntercect)\n",
    "\n",
    "    plt.show()\n",
    "\n",
    "# testTo(15)"
   ]
  },
  {
   "cell_type": "markdown",
   "metadata": {},
   "source": [
    "# Integração com BD"
   ]
  },
  {
   "cell_type": "code",
   "execution_count": null,
   "metadata": {},
   "outputs": [],
   "source": [
    "# %pip install pandas"
   ]
  },
  {
   "cell_type": "markdown",
   "metadata": {},
   "source": [
    "# Banana BD"
   ]
  },
  {
   "cell_type": "code",
   "execution_count": null,
   "metadata": {},
   "outputs": [],
   "source": [
    "import pandas as pd\n",
    "def plotClass(List, ax, dotType='r*', envType='b-', compareCol1=1, compareCol2=2, withNoise=True):\n",
    "    # Recebe uma tabela com duas colunas referentes ao x e y da classe\n",
    "\n",
    "    x = []\n",
    "    y  = []\n",
    "    dot_list = []\n",
    "    for row in List.itertuples():\n",
    "        a = noise(row[compareCol1]) if withNoise else row[compareCol1]\n",
    "        b = noise(row[compareCol2]) if withNoise else row[compareCol2]\n",
    "        dot = Dot(a, b)\n",
    "        x.append(a)\n",
    "        y.append(b)\n",
    "        dot_list.append(dot)\n",
    "\n",
    "    sorted_list = sortDotsByPolarAngle(dot_list)\n",
    "    env = Graham(sorted_list)\n",
    "    plotEnvoltoria(ax, dot_list, env, dotType=dotType, envType=envType)"
   ]
  },
  {
   "cell_type": "code",
   "execution_count": null,
   "metadata": {},
   "outputs": [],
   "source": [
    "import pandas as pd\n",
    "\n",
    "banana = pd.read_csv('./data/banana.csv', delimiter=',')\n",
    "\n",
    "aType = banana[banana['Class'] == 1]\n",
    "bType = banana[banana['Class'] == -1]"
   ]
  },
  {
   "cell_type": "code",
   "execution_count": null,
   "metadata": {},
   "outputs": [],
   "source": [
    "fig, ax = plt.subplots()\n",
    "plotClass(aType, ax)\n",
    "plotClass(bType, ax, dotType='y.', envType='g-')\n"
   ]
  },
  {
   "cell_type": "markdown",
   "metadata": {},
   "source": [
    "# Iris BD"
   ]
  },
  {
   "cell_type": "code",
   "execution_count": null,
   "metadata": {},
   "outputs": [],
   "source": [
    "import pandas as pd\n",
    "\n",
    "iris = pd.read_csv('./data/iris.csv', delimiter=',')\n",
    "\n",
    "aType = iris[iris['Class'] == 'Iris-setosa']\n",
    "bType = iris[iris['Class'] == 'Iris-versicolor']\n",
    "cType = iris[iris['Class'] == 'Iris-virginica']\n",
    "\n",
    "fig, ax = plt.subplots()\n",
    "\n",
    "plotClass(aType, ax)\n",
    "plotClass(bType, ax, dotType='y.', envType='g-')\n",
    "plotClass(cType, ax, dotType='b^', envType='r-')"
   ]
  },
  {
   "cell_type": "markdown",
   "metadata": {},
   "source": [
    "# wine quality"
   ]
  },
  {
   "cell_type": "code",
   "execution_count": null,
   "metadata": {},
   "outputs": [],
   "source": [
    "wine = pd.read_csv('./data/winequality-white.csv', delimiter=',')\n",
    "\n",
    "aType = wine[wine['Quality'] == 4]\n",
    "bType = wine[wine['Quality'] == 8]\n",
    "\n",
    "fig, ax = plt.subplots()\n",
    "\n",
    "col = (aType.shape)[1]\n",
    "col2 = (bType.shape)[1]\n",
    "\n",
    "# for i in range(col):\n",
    "#     for j in range(col2):\n",
    "\n",
    "#         fig, ax = plt.subplots()\n",
    "#         plotClass(aType, ax, dotType='rx', envType='r-', compareCol1=i, compareCol2=j)\n",
    "#         plotClass(bType, ax, dotType='g.', envType='g-', compareCol1=i, compareCol2=j)\n",
    "#         plt.show()"
   ]
  },
  {
   "cell_type": "markdown",
   "metadata": {},
   "source": [
    "# Thyroid"
   ]
  },
  {
   "cell_type": "code",
   "execution_count": null,
   "metadata": {},
   "outputs": [],
   "source": [
    "thyroid = pd.read_csv('./data/thyroid.csv', delimiter=',')\n",
    "\n",
    "aType = thyroid[thyroid['Class'] == 3][['TSH', 'T3', 'TT4', 'T4U', 'FTI', 'Class']] # hipo\n",
    "bType = thyroid[thyroid['Class'] == 2][['TSH', 'T3', 'TT4', 'T4U', 'FTI', 'Class']] # hyper\n",
    "cType = thyroid[thyroid['Class'] == 1][['TSH', 'T3', 'TT4', 'T4U', 'FTI', 'Class']] # normal\n",
    "\n",
    "fig, ax = plt.subplots()\n",
    "\n",
    "a = 1\n",
    "b = 5\n",
    "plotClass(bType, ax, dotType='yx', envType='g-', compareCol1=a, compareCol2=b, withNoise=False)\n",
    "plotClass(cType, ax, dotType='r.', envType='b-', compareCol1=a, compareCol2=b, withNoise=False)\n",
    "\n",
    "\n"
   ]
  },
  {
   "cell_type": "markdown",
   "metadata": {},
   "source": [
    "# Phoneme\n"
   ]
  },
  {
   "cell_type": "code",
   "execution_count": null,
   "metadata": {},
   "outputs": [],
   "source": [
    "phoneme = pd.read_csv('./data/phoneme.csv', delimiter=',')\n",
    "\n",
    "aType = phoneme[phoneme['Class'] == 0]\n",
    "bType = phoneme[phoneme['Class'] == 1]\n",
    "\n",
    "fig, ax = plt.subplots()\n",
    "\n",
    "col = (aType.shape)[1]\n",
    "col2 = (bType.shape)[1]\n",
    "\n",
    "for i in range(col):\n",
    "    for j in range(col2):\n",
    "\n",
    "        fig, ax = plt.subplots()\n",
    "        plotClass(aType, ax, dotType='rx', envType='r-', compareCol1=i, compareCol2=j)\n",
    "        plotClass(bType, ax, dotType='g.', envType='g-', compareCol1=i, compareCol2=j)\n"
   ]
  },
  {
   "cell_type": "markdown",
   "metadata": {},
   "source": [
    "# Breast Cancer Wisconsin"
   ]
  },
  {
   "cell_type": "code",
   "execution_count": null,
   "metadata": {},
   "outputs": [],
   "source": [
    "import numpy as np\n",
    "\n",
    "cancer = pd.read_csv('./data/wdbc.csv', delimiter=',')\n",
    "\n",
    "aType = cancer[cancer['Class'] == 'M']\n",
    "bType = cancer[cancer['Class'] == 'B']\n",
    "\n",
    "col = (aType.shape)[1]\n",
    "\n",
    "# for i in range(col):\n",
    "#     for j in range(col):\n",
    "\n",
    "#         fig, ax = plt.subplots()\n",
    "#         plotClass(aType, ax, dotType='rx', envType='r-', compareCol1=i, compareCol2=j)\n",
    "#         plotClass(bType, ax, dotType='g.', envType='g-', compareCol1=i, compareCol2=j)\n",
    "\n",
    "# plt.show()"
   ]
  },
  {
   "cell_type": "markdown",
   "metadata": {},
   "source": [
    "# Ionosphere"
   ]
  },
  {
   "cell_type": "code",
   "execution_count": null,
   "metadata": {},
   "outputs": [],
   "source": [
    "ionosphere = pd.read_csv('./data/ionosphere.csv', delimiter=',')\n",
    "\n",
    "aType = ionosphere[ionosphere['Class'] == 'b']\n",
    "bType = ionosphere[ionosphere['Class'] == 'g']\n",
    "\n",
    "\n",
    "# fig, ax = plt.subplots()\n",
    "# a = 24\n",
    "# b = 15\n",
    "\n",
    "# plotClass(aType, ax, dotType='rx', envType='r-', compareCol1=a, compareCol2=b)\n",
    "# plotClass(bType, ax, dotType='g.', envType='g-', compareCol1=a, compareCol2=b)\n",
    "\n",
    "# plt.show()\n",
    "\n",
    "aType[['Pulse24', 'Pulse27']]"
   ]
  },
  {
   "cell_type": "markdown",
   "metadata": {},
   "source": [
    "Coil2000"
   ]
  },
  {
   "cell_type": "code",
   "execution_count": null,
   "metadata": {},
   "outputs": [],
   "source": [
    "coil2000 = pd.read_csv('./data/coil2000.csv', delimiter=',')\n",
    "\n",
    "aType = coil2000[coil2000['CARAVAN'] == 0]\n",
    "bType = coil2000[coil2000['CARAVAN'] == 1]\n",
    "\n",
    "\n",
    "fig, ax = plt.subplots()\n",
    "\n",
    "# col = (aType.shape)[1]\n",
    "\n",
    "# for i in range(col):\n",
    "#     for j in range(col):\n",
    "\n",
    "#         fig, ax = plt.subplots()\n",
    "#         plotClass(aType, ax, dotType='rx', envType='r-', compareCol1=i, compareCol2=j)\n",
    "#         plotClass(bType, ax, dotType='g.', envType='g-', compareCol1=i, compareCol2=j)\n",
    "#         plt.show()\n"
   ]
  },
  {
   "cell_type": "markdown",
   "metadata": {},
   "source": [
    "movement_libras"
   ]
  },
  {
   "cell_type": "code",
   "execution_count": 72,
   "metadata": {},
   "outputs": [
    {
     "name": "stdout",
     "output_type": "stream",
     "text": [
      "0.79691\n",
      "0.67892\n",
      "0.72147\n",
      "0.5648\n",
      "0.67118\n",
      "0.83366\n",
      "0.71567\n",
      "0.77563\n",
      "0.77756\n",
      "0.74468\n",
      "0.78917\n",
      "0.83752\n",
      "0.29014\n",
      "0.2089\n",
      "0.19923\n",
      "0.21857\n",
      "0.24565\n",
      "0.25145\n",
      "0.69246\n",
      "0.57447\n",
      "0.4971\n",
      "0.62282\n",
      "0.58801\n",
      "0.61896\n"
     ]
    }
   ],
   "source": [
    "movement_libras = pd.read_csv('./data/movement_libras.csv', delimiter=',')\n",
    "\n",
    "aType = movement_libras[movement_libras['Class'] == 1]\n",
    "bType = movement_libras[movement_libras['Class'] == 12]\n",
    "\n",
    "# fig, ax = plt.subplots()\n",
    "\n",
    "# col = (aType.shape)[1]\n",
    "# col = (bType.shape)[1]\n",
    "\n",
    "# for i in range(col):\n",
    "#     for j in range(col2):\n",
    "\n",
    "#         fig, ax = plt.subplots()\n",
    "#         plotClass(aType, ax, dotType='rx', envType='r-', compareCol1=i, compareCol2=j)\n",
    "#         plotClass(bType, ax, dotType='g.', envType='g-', compareCol1=i, compareCol2=j)\n",
    "#         print(i, j)\n",
    "#         plt.show()"
   ]
  }
 ],
 "metadata": {
  "kernelspec": {
   "display_name": "Python 3.10.4 64-bit",
   "language": "python",
   "name": "python3"
  },
  "language_info": {
   "codemirror_mode": {
    "name": "ipython",
    "version": 3
   },
   "file_extension": ".py",
   "mimetype": "text/x-python",
   "name": "python",
   "nbconvert_exporter": "python",
   "pygments_lexer": "ipython3",
   "version": "3.10.4"
  },
  "orig_nbformat": 4,
  "vscode": {
   "interpreter": {
    "hash": "916dbcbb3f70747c44a77c7bcd40155683ae19c65e1c03b4aa3499c5328201f1"
   }
  }
 },
 "nbformat": 4,
 "nbformat_minor": 2
}
